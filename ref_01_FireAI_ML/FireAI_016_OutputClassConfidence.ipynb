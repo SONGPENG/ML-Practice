{
 "cells": [
  {
   "cell_type": "code",
   "execution_count": 1,
   "metadata": {},
   "outputs": [],
   "source": [
    "import numpy as np\n",
    "import pandas as pd\n",
    "import matplotlib.pyplot as plt\n",
    "%matplotlib inline\n",
    "np.random.seed(37) # 使得每次运行得到的随机数都一样"
   ]
  },
  {
   "cell_type": "code",
   "execution_count": 2,
   "metadata": {},
   "outputs": [
    {
     "name": "stdout",
     "output_type": "stream",
     "text": [
      "<class 'pandas.core.frame.DataFrame'>\n",
      "RangeIndex: 1200 entries, 0 to 1199\n",
      "Data columns (total 3 columns):\n",
      "0    1200 non-null float64\n",
      "1    1200 non-null float64\n",
      "2    1200 non-null int64\n",
      "dtypes: float64(2), int64(1)\n",
      "memory usage: 28.2 KB\n",
      "None\n"
     ]
    }
   ],
   "source": [
    "# 准备数据集\n",
    "data_path='E:\\PyProjects\\DataSet\\FireAI/data_multivar_imbalance.txt'\n",
    "df=pd.read_csv(data_path,header=None)\n",
    "# print(df.head()) # 没有问题\n",
    "print(df.info()) # 查看数据信息，确保没有错误\n",
    "dataset_X,dataset_y=df.iloc[:,:-1],df.iloc[:,-1]\n",
    "# print(dataset_X.head())\n",
    "# print(dataset_X.info())\n",
    "# print(dataset_y.head()) # 检查没问题\n",
    "dataset_X=dataset_X.values\n",
    "dataset_y=dataset_y.values"
   ]
  },
  {
   "cell_type": "code",
   "execution_count": 10,
   "metadata": {},
   "outputs": [],
   "source": [
    "# 将整个数据集划分为train set和test set\n",
    "from sklearn.model_selection import train_test_split\n",
    "train_X, test_X, train_y, test_y=train_test_split(\n",
    "    dataset_X,dataset_y,test_size=0.25,random_state=42)\n",
    "\n",
    "# 看来直接使用简单的线性SVM分类器难以将class_0区分出来，故而我们要调整数据集中样本的数量权重\n",
    "from sklearn.metrics import classification_report\n",
    "from sklearn.svm import SVC\n"
   ]
  },
  {
   "cell_type": "code",
   "execution_count": 11,
   "metadata": {},
   "outputs": [
    {
     "name": "stdout",
     "output_type": "stream",
     "text": [
      "sample: [2.  1.5], probs: [0.08066588 0.91933412]\n",
      "sample: [8. 9.], probs: [0.08311977 0.91688023]\n",
      "sample: [4.8 5.2], probs: [0.14367183 0.85632817]\n",
      "sample: [4. 4.], probs: [0.06178594 0.93821406]\n",
      "sample: [2.5 7. ], probs: [0.21050117 0.78949883]\n",
      "sample: [7.6 2. ], probs: [0.07548128 0.92451872]\n",
      "sample: [5.4 5.9], probs: [0.45817727 0.54182273]\n"
     ]
    }
   ],
   "source": [
    "# 计算某个新样本的置信度\n",
    "new_samples=np.array([[2,1.5],\n",
    "                      [8,9],\n",
    "                      [4.8,5.2],\n",
    "                      [4,4],\n",
    "                      [2.5,7],\n",
    "                      [7.6,2],\n",
    "                      [5.4,5.9]])\n",
    "classifier3=SVC(kernel='rbf',probability=True) # 比上面的分类器增加了 probability=True参数\n",
    "classifier3.fit(train_X,train_y)\n",
    "\n",
    "# 使用训练好的SVM分类器classifier3对新样本进行预测，并给出置信度\n",
    "for sample in new_samples:\n",
    "    print('sample: {}, probs: {}'.format(sample,classifier3.predict_proba([sample])[0]))"
   ]
  },
  {
   "cell_type": "code",
   "execution_count": 12,
   "metadata": {},
   "outputs": [],
   "source": [
    "# 将分类器绘制到图中\n",
    "def plot_classifier(classifier, X, y):\n",
    "    x_min, x_max = min(X[:, 0]) - 1.0, max(X[:, 0]) + 1.0 # 计算图中坐标的范围\n",
    "    y_min, y_max = min(X[:, 1]) - 1.0, max(X[:, 1]) + 1.0\n",
    "    step_size = 0.01 # 设置step size\n",
    "    x_values, y_values = np.meshgrid(np.arange(x_min, x_max, step_size),\n",
    "                                     np.arange(y_min, y_max, step_size))\n",
    "    # 构建网格数据\n",
    "    mesh_output = classifier.predict(np.c_[x_values.ravel(), y_values.ravel()])\n",
    "    mesh_output = mesh_output.reshape(x_values.shape) \n",
    "    plt.figure()\n",
    "    plt.pcolormesh(x_values, y_values, mesh_output, cmap=plt.cm.gray)\n",
    "    plt.scatter(X[:, 0], X[:, 1], c=y, s=80, edgecolors='black', \n",
    "                linewidth=1, cmap=plt.cm.Paired)\n",
    "    # specify the boundaries of the figure\n",
    "    plt.xlim(x_values.min(), x_values.max())\n",
    "    plt.ylim(y_values.min(), y_values.max())\n",
    "\n",
    "    # specify the ticks on the X and Y axes\n",
    "    plt.xticks((np.arange(int(min(X[:, 0])), int(max(X[:, 0])), 1.0)))\n",
    "    plt.yticks((np.arange(int(min(X[:, 1])), int(max(X[:, 1])), 1.0)))\n",
    "\n",
    "    plt.show()"
   ]
  },
  {
   "cell_type": "code",
   "execution_count": 13,
   "metadata": {},
   "outputs": [
    {
     "data": {
      "image/png": "[encoded data removed]",
      "text/plain": [
       "<Figure size 432x288 with 1 Axes>"
      ]
     },
     "metadata": {},
     "output_type": "display_data"
    }
   ],
   "source": [
    "plot_classifier(classifier3,new_samples,classifier3.predict(new_samples))"
   ]
  },
  {
   "cell_type": "code",
   "execution_count": null,
   "metadata": {},
   "outputs": [],
   "source": []
  }
 ],
 "metadata": {
  "kernelspec": {
   "display_name": "Python 3",
   "language": "python",
   "name": "python3"
  },
  "language_info": {
   "codemirror_mode": {
    "name": "ipython",
    "version": 3
   },
   "file_extension": ".py",
   "mimetype": "text/x-python",
   "name": "python",
   "nbconvert_exporter": "python",
   "pygments_lexer": "ipython3",
   "version": "3.6.6"
  }
 },
 "nbformat": 4,
 "nbformat_minor": 2
}
