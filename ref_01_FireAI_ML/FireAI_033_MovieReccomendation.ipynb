{
 "cells": [
  {
   "cell_type": "code",
   "execution_count": 1,
   "metadata": {},
   "outputs": [],
   "source": [
    "import numpy as np\n",
    "import pandas as pd\n",
    "import matplotlib.pyplot as plt\n",
    "%matplotlib inline\n",
    "np.random.seed(37) "
   ]
  },
  {
   "cell_type": "code",
   "execution_count": 2,
   "metadata": {},
   "outputs": [],
   "source": [
    "# 寻找相似用户，此处使用Pearson 相关性来确定相似度\n",
    "# 将FireAI_032中的函数导入进来，\n",
    "# 定义一个函数来计算两个用户之间的皮尔逊相关系数\n",
    "def pearson_score(dataset,user1,user2):\n",
    "    # 和上面的函数类似，先排除相似度为0的情况\n",
    "#     both_rated_num=0 # 表示同时被两个用户都评价过的电影的数目\n",
    "#     for item in dataset[user1]: # 在user1评价过的电影中\n",
    "#         if item in dataset[user2]: # 如果user2也评价过，则+1\n",
    "#             both_rated_num+=1\n",
    "#     if both_rated_num==0:# 不存在同时被两个用户都评价过的电影\n",
    "#         return 0 # 直接返回0，表示两个用户之间相似度为0\n",
    "\n",
    "    both_rated={}\n",
    "    for item in dataset[user1]:\n",
    "        if item in dataset[user2]:\n",
    "            both_rated[item]=1\n",
    "    num_ratings=len(both_rated)\n",
    "    if num_ratings==0: # 不存在同时被两个用户都评价过的电影\n",
    "        return 0\n",
    "    \n",
    "    # 计算每个用户对每个相同电影的评价之和\n",
    "    user1_sum=np.sum([dataset[user1][item] for item in both_rated])\n",
    "    user2_sum=np.sum([dataset[user2][item] for item in both_rated])\n",
    "    \n",
    "    # 计算每个用户对每个相同电影的评价的平方和\n",
    "    user1_squared_sum = np.sum([np.square(dataset[user1][item]) for item in both_rated])\n",
    "    user2_squared_sum = np.sum([np.square(dataset[user2][item]) for item in both_rated])\n",
    "\n",
    "    # 计算两个用户的相同电影的乘积\n",
    "    product_sum=np.sum([dataset[user1][item]*dataset[user2][item] for item in both_rated])\n",
    "    \n",
    "    # 计算Pearson 相关系数\n",
    "    Sxy = product_sum - (user1_sum * user2_sum / num_ratings)\n",
    "    Sxx = user1_squared_sum - np.square(user1_sum) / num_ratings\n",
    "    Syy = user2_squared_sum - np.square(user2_sum) / num_ratings\n",
    "    \n",
    "    if Sxx * Syy == 0:\n",
    "        return 0\n",
    "\n",
    "    return Sxy / np.sqrt(Sxx * Syy)\n"
   ]
  },
  {
   "cell_type": "code",
   "execution_count": 3,
   "metadata": {},
   "outputs": [],
   "source": [
    "def find_similar_users(dataset, user, user_num=3):\n",
    "    if user not in dataset: # 首先保证user在dataset中\n",
    "        raise TypeError('User {} not in dataset!'.format(user))\n",
    "    \n",
    "    # 对于所有用户，计算其与user的相似度，此处使用Pearson相关性\n",
    "    scores=np.array([[other_user,pearson_score(dataset,user,other_user)] for \n",
    "                         other_user in dataset if other_user!=user])\n",
    "    # 相关性都存放在scores这个二维矩阵中，故而可以通过排序来寻找相似用户\n",
    "    scores_sorted=np.argsort(scores[:,1])[::-1] # 先排序取坐标，再逆序\n",
    "    # 获取最前面的user_num个相似用户\n",
    "    top_users=scores_sorted[:user_num]\n",
    "    return scores[top_users] # 返回这些user的信息\n"
   ]
  },
  {
   "cell_type": "code",
   "execution_count": 4,
   "metadata": {},
   "outputs": [
    {
     "name": "stdout",
     "output_type": "stream",
     "text": [
      "Users similar to John Carson---->>>\n",
      "User\t\t\tSimilarity Score\n",
      "\n",
      "Michael Henry\t\t0.991\n",
      "Alex Roberts\t\t0.747\n",
      "Melissa Jones\t\t0.594\n",
      "Jillian Hobart\t\t0.567\n"
     ]
    }
   ],
   "source": [
    "# 使用电影数据来寻找相似用户\n",
    "import json\n",
    "with open(\"E:\\PyProjects\\DataSet\\FireAI\\movie_ratings.json\",'r') as file:\n",
    "    dataset=json.loads(file.read())\n",
    "\n",
    "user='John Carson'\n",
    "similar_users=find_similar_users(dataset, user, 4)\n",
    "print('Users similar to {}---->>>'.format(user))\n",
    "print('User\\t\\t\\tSimilarity Score\\n')\n",
    "for item in similar_users:\n",
    "    print('{}\\t\\t{}'.format(item[0],round(float(item[1]),3)))"
   ]
  },
  {
   "cell_type": "code",
   "execution_count": 5,
   "metadata": {},
   "outputs": [],
   "source": [
    "# 创建电影推荐引擎\n",
    "def get_recommendations(dataset,user):\n",
    "    if user not in dataset: # 首先保证user在dataset中\n",
    "        raise TypeError('User {} not in dataset!'.format(user))\n",
    "    \n",
    "    total_scores={} # 存放的key为电影名称，value为对该电影的评价乘以相似度\n",
    "    similarity_sums={} # 存放的key为电影名称，value为相似度\n",
    "    for other_user in dataset:\n",
    "        if other_user ==user: continue  # 确保是其他用户而非自身\n",
    "        similarity_score=pearson_score(dataset,user, other_user) \n",
    "#         print('other user: ', other_user, 'similarity: ', similarity_score)\n",
    "        if similarity_score<=0: continue # 如果相似度太小则忽略\n",
    "        \n",
    "        # 找到还未被该用户评分,但是却被other_user评分过的电影\n",
    "        # 这部分电影表示相似的other_ser已经看过但是user没有看过的电影，\n",
    "        # 推荐的电影肯定来自于这部分\n",
    "        user_not_rating_movies=[]\n",
    "        for movie in dataset[other_user]: # other_user评分过的电影\n",
    "#             if movie not in dataset[user] or dataset[user][movie]==0: \n",
    "            if movie not in dataset[user]: \n",
    "\n",
    "                # 但是user没有评分过，或者user评分为0(是不是系统认为没有评分那评分就是0）)\n",
    "                user_not_rating_movies.append(movie)\n",
    "#         print(user_not_rating_movies)\n",
    "        # 计算这些user没有评分过的电影的推荐分数，\n",
    "        # 推荐分数此处用该电影的评价乘以相似度表示\n",
    "        for movie in user_not_rating_movies:\n",
    "            recommend_score=dataset[other_user][movie]*similarity_score\n",
    "            total_scores.update({movie: recommend_score})\n",
    "            similarity_sums.update({movie: similarity_score})\n",
    "#         print('other user: ', other_user, 'total_scores: ', total_scores)\n",
    "    # 判断total_scores，如果推荐的总数为0，表示所有电影都被user评价过，则不推荐\n",
    "    if len(total_scores) ==0: return [[0,'No Recommendations']]\n",
    "    \n",
    "    # 计算每个电影的推荐等级\n",
    "    movie_ranks=np.array([[rec_score/similarity_sums[movie],movie] for \n",
    "                         movie, rec_score in total_scores.items()])\n",
    "    # 对第一列进行逆序排列\n",
    "    movie_ranks_desc=movie_ranks[np.argsort(movie_ranks[:,0])[::-1]]\n",
    "#     print(movie_ranks_desc)\n",
    "    return movie_ranks_desc"
   ]
  },
  {
   "cell_type": "code",
   "execution_count": 6,
   "metadata": {},
   "outputs": [
    {
     "name": "stdout",
     "output_type": "stream",
     "text": [
      "Recommended movies to John Carson---->>>\n",
      "0: No Recommendations-->recommend score: 0\n",
      "Recommended movies to Michael Henry---->>>\n",
      "0: Jerry Maguire-->recommend score: 3.0\n",
      "1: Inception-->recommend score: 3.0\n",
      "2: Anger Management-->recommend score: 2.0\n"
     ]
    }
   ],
   "source": [
    "import json\n",
    "with open(\"E:\\PyProjects\\DataSet\\FireAI\\movie_ratings.json\",'r') as file:\n",
    "    dataset=json.loads(file.read())\n",
    "\n",
    "user='John Carson'\n",
    "movie_ranks=get_recommendations(dataset,user)\n",
    "print('Recommended movies to {}---->>>'.format(user))\n",
    "for idx, recommend in enumerate(movie_ranks):\n",
    "    print('{}: {}-->recommend score: {}'.format(idx, recommend[1], recommend[0]))\n",
    "\n",
    "user='Michael Henry'\n",
    "movie_ranks=get_recommendations(dataset,user)\n",
    "print('Recommended movies to {}---->>>'.format(user))\n",
    "for idx, recommend in enumerate(movie_ranks):\n",
    "    print('{}: {}-->recommend score: {}'.format(idx, recommend[1], recommend[0]))\n"
   ]
  },
  {
   "cell_type": "code",
   "execution_count": null,
   "metadata": {},
   "outputs": [],
   "source": []
  }
 ],
 "metadata": {
  "kernelspec": {
   "display_name": "Python 3",
   "language": "python",
   "name": "python3"
  },
  "language_info": {
   "codemirror_mode": {
    "name": "ipython",
    "version": 3
   },
   "file_extension": ".py",
   "mimetype": "text/x-python",
   "name": "python",
   "nbconvert_exporter": "python",
   "pygments_lexer": "ipython3",
   "version": "3.6.6"
  }
 },
 "nbformat": 4,
 "nbformat_minor": 2
}
