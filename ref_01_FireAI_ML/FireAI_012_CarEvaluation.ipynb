{
 "cells": [
  {
   "cell_type": "code",
   "execution_count": 1,
   "metadata": {},
   "outputs": [],
   "source": [
    "import numpy as np\n",
    "import pandas as pd\n",
    "import matplotlib.pyplot as plt\n",
    "%matplotlib inline\n",
    "np.random.seed(37) # 使得每次运行得到的随机数都一样"
   ]
  },
  {
   "cell_type": "code",
   "execution_count": 2,
   "metadata": {},
   "outputs": [
    {
     "name": "stdout",
     "output_type": "stream",
     "text": [
      "<class 'pandas.core.frame.DataFrame'>\n",
      "RangeIndex: 1728 entries, 0 to 1727\n",
      "Data columns (total 7 columns):\n",
      "0    1728 non-null object\n",
      "1    1728 non-null object\n",
      "2    1728 non-null object\n",
      "3    1728 non-null object\n",
      "4    1728 non-null object\n",
      "5    1728 non-null object\n",
      "6    1728 non-null object\n",
      "dtypes: object(7)\n",
      "memory usage: 94.6+ KB\n",
      "None\n",
      "       0      1  2  3      4     5      6\n",
      "0  vhigh  vhigh  2  2  small   low  unacc\n",
      "1  vhigh  vhigh  2  2  small   med  unacc\n",
      "2  vhigh  vhigh  2  2  small  high  unacc\n",
      "3  vhigh  vhigh  2  2    med   low  unacc\n",
      "4  vhigh  vhigh  2  2    med   med  unacc\n"
     ]
    }
   ],
   "source": [
    "# 准备数据集\n",
    "dataset_path='D:\\PyProjects\\DataSet\\CarEvaluation/car.data'\n",
    "df=pd.read_csv(dataset_path,header=None)\n",
    "print(df.info()) # 加载没有问题\n",
    "# 原数据集包含有1728个样本，每一个样本含有6个features, 一个label\n",
    "print(df.head())\n",
    "raw_set=df.values"
   ]
  },
  {
   "cell_type": "code",
   "execution_count": 3,
   "metadata": {},
   "outputs": [
    {
     "name": "stdout",
     "output_type": "stream",
     "text": [
      "['high' 'low' 'med' 'vhigh']\n",
      "['high' 'low' 'med' 'vhigh']\n",
      "['2' '3' '4' '5more']\n",
      "['2' '4' 'more']\n",
      "['big' 'med' 'small']\n",
      "['high' 'low' 'med']\n",
      "['acc' 'good' 'unacc' 'vgood']\n",
      "[[3 3 0 0 2 1]\n",
      " [3 3 0 0 2 2]\n",
      " [3 3 0 0 2 0]\n",
      " [3 3 0 0 1 1]\n",
      " [3 3 0 0 1 2]]\n",
      "[2 2 2 2 2]\n"
     ]
    }
   ],
   "source": [
    "# 数据集中的特征向量包括有多个String，故而type是object，需要转换为数值\n",
    "from sklearn import preprocessing\n",
    "label_encoder=[] # 放置每一列的encoder\n",
    "encoded_set = np.empty(raw_set.shape)\n",
    "for i,_ in enumerate(raw_set[0]):\n",
    "#     encoder=preprocessing.LabelEncoder()\n",
    "#     encoder.fit(raw_set[:,i]) # 用某一列来fit这个encoder\n",
    "#     encoded_set[:,i]=encoder.transform(raw_set[:,i]) # 用同样的这一列来transform\n",
    "#     label_encoder.append(encoder)\n",
    "    \n",
    "    # 上面fit和tranform都是在同一个向量上操作，故而可以整合\n",
    "    encoder=preprocessing.LabelEncoder()\n",
    "    encoded_set[:,i]=encoder.fit_transform(raw_set[:,i])\n",
    "    print(encoder.classes_)\n",
    "    label_encoder.append(encoder)\n",
    "\n",
    "dataset_X = encoded_set[:, :-1].astype(int)\n",
    "dataset_y = encoded_set[:, -1].astype(int)\n",
    "# print(dataset_X.shape) # (1728, 6)\n",
    "# print(dataset_y.shape) #(1728,)\n",
    "print(dataset_X[:5]) # 可以看出每个特征向量都将string转变为int\n",
    "print(dataset_y[:5]) # 检查没有问题\n",
    "\n",
    "# 将数据集拆分为train set 和test set\n",
    "from sklearn.model_selection import train_test_split\n",
    "train_X, test_X, train_y, test_y=train_test_split(dataset_X,dataset_y,\n",
    "                                                  test_size=0.3,random_state=42)\n",
    "# print(train_X.shape) # (1209, 6)\n",
    "# print(train_y.shape) # (1209,)\n",
    "# print(test_X.shape) # (519, 6) "
   ]
  },
  {
   "cell_type": "code",
   "execution_count": 4,
   "metadata": {},
   "outputs": [
    {
     "name": "stderr",
     "output_type": "stream",
     "text": [
      "c:\\users\\dingr\\appdata\\local\\programs\\python\\python35\\lib\\site-packages\\sklearn\\cross_validation.py:41: DeprecationWarning: This module was deprecated in version 0.18 in favor of the model_selection module into which all the refactored classes and functions are moved. Also note that the interface of the new CV iterators are different from that of this module. This module will be removed in 0.20.\n",
      "  \"This module will be removed in 0.20.\", DeprecationWarning)\n"
     ]
    },
    {
     "name": "stdout",
     "output_type": "stream",
     "text": [
      "准确率：89.19%\n"
     ]
    },
    {
     "name": "stderr",
     "output_type": "stream",
     "text": [
      "c:\\users\\dingr\\appdata\\local\\programs\\python\\python35\\lib\\site-packages\\sklearn\\metrics\\classification.py:1135: UndefinedMetricWarning: Precision is ill-defined and being set to 0.0 in labels with no predicted samples.\n",
      "  'precision', 'predicted', average, warn_for)\n",
      "c:\\users\\dingr\\appdata\\local\\programs\\python\\python35\\lib\\site-packages\\sklearn\\metrics\\classification.py:1135: UndefinedMetricWarning: Precision is ill-defined and being set to 0.0 in labels with no predicted samples.\n",
      "  'precision', 'predicted', average, warn_for)\n"
     ]
    },
    {
     "name": "stdout",
     "output_type": "stream",
     "text": [
      "精确度：88.49%\n",
      "召回率：89.19%\n"
     ]
    },
    {
     "name": "stderr",
     "output_type": "stream",
     "text": [
      "c:\\users\\dingr\\appdata\\local\\programs\\python\\python35\\lib\\site-packages\\sklearn\\metrics\\classification.py:1135: UndefinedMetricWarning: F-score is ill-defined and being set to 0.0 in labels with no predicted samples.\n",
      "  'precision', 'predicted', average, warn_for)\n"
     ]
    },
    {
     "name": "stdout",
     "output_type": "stream",
     "text": [
      "F1  值：88.32%\n"
     ]
    },
    {
     "name": "stderr",
     "output_type": "stream",
     "text": [
      "c:\\users\\dingr\\appdata\\local\\programs\\python\\python35\\lib\\site-packages\\sklearn\\metrics\\classification.py:1135: UndefinedMetricWarning: F-score is ill-defined and being set to 0.0 in labels with no predicted samples.\n",
      "  'precision', 'predicted', average, warn_for)\n"
     ]
    }
   ],
   "source": [
    "# 建立随机森林分类器\n",
    "from sklearn.ensemble import RandomForestClassifier\n",
    "rf_classifier=RandomForestClassifier(n_estimators=200,max_depth=8,random_state=37)\n",
    "rf_classifier.fit(train_X,train_y) # 用训练集进行训练\n",
    "\n",
    "# 用测试集评估模型的准确率，精确率，召回率，F1值：\n",
    "def print_model_evaluations(classifier,test_X, test_y,cv=5):\n",
    "    '''print evaluation indicators of classifier on test_set.\n",
    "    those indicators include: accuracy, precision, recall F1-measure'''\n",
    "    from sklearn.cross_validation import cross_val_score\n",
    "    accuracy=cross_val_score(classifier,test_X,test_y,\n",
    "                             scoring='accuracy',cv=cv)\n",
    "    print('准确率：{:.2f}%'.format(accuracy.mean()*100))\n",
    "    precision=cross_val_score(classifier,test_X,test_y,\n",
    "                             scoring='precision_weighted',cv=cv)\n",
    "    print('精确度：{:.2f}%'.format(precision.mean()*100))\n",
    "    recall=cross_val_score(classifier,test_X,test_y,\n",
    "                             scoring='recall_weighted',cv=cv)\n",
    "    print('召回率：{:.2f}%'.format(recall.mean()*100))\n",
    "    f1=cross_val_score(classifier,test_X,test_y,\n",
    "                             scoring='f1_weighted',cv=cv)\n",
    "    print('F1  值：{:.2f}%'.format(f1.mean()*100))\n",
    "\n",
    "print_model_evaluations(rf_classifier,test_X,test_y)    "
   ]
  },
  {
   "cell_type": "code",
   "execution_count": 5,
   "metadata": {},
   "outputs": [
    {
     "name": "stdout",
     "output_type": "stream",
     "text": [
      "[[108   2   7   1]\n",
      " [  9   8   0   2]\n",
      " [  3   0 355   0]\n",
      " [  3   0   0  21]]\n",
      "**************************************************\n",
      "             precision    recall  f1-score   support\n",
      "\n",
      "          0       0.88      0.92      0.90       118\n",
      "          1       0.80      0.42      0.55        19\n",
      "          2       0.98      0.99      0.99       358\n",
      "          3       0.88      0.88      0.88        24\n",
      "\n",
      "avg / total       0.95      0.95      0.94       519\n",
      "\n"
     ]
    }
   ],
   "source": [
    "# 打印模型的混淆矩阵和各个类别的评价指标\n",
    "# 使用sklearn 模块计算混淆矩阵\n",
    "from sklearn.metrics import confusion_matrix\n",
    "test_y_pred=rf_classifier.predict(test_X)\n",
    "confusion_mat = confusion_matrix(test_y, test_y_pred)\n",
    "print(confusion_mat) #看看混淆矩阵长啥样\n",
    "print('*'*50)\n",
    "from sklearn.metrics import classification_report\n",
    "print(classification_report(test_y, test_y_pred))"
   ]
  },
  {
   "cell_type": "code",
   "execution_count": 6,
   "metadata": {},
   "outputs": [
    {
     "name": "stdout",
     "output_type": "stream",
     "text": [
      "[[3. 3. 0. 0. 2. 1.]]\n",
      "output: [2], class: unacc\n"
     ]
    },
    {
     "name": "stderr",
     "output_type": "stream",
     "text": [
      "c:\\users\\dingr\\appdata\\local\\programs\\python\\python35\\lib\\site-packages\\sklearn\\preprocessing\\label.py:151: DeprecationWarning: The truth value of an empty array is ambiguous. Returning False, but in future this will result in an error. Use `array.size > 0` to check that an array is not empty.\n",
      "  if diff:\n"
     ]
    }
   ],
   "source": [
    "# 看起来该随机森林分类器的分类效果还是很不错的，\n",
    "# 那么可以用这个比较理想的模型来预测新数据，\n",
    "new_sample=['vhigh','vhigh','2','2','small','low']\n",
    "# 在把这个样本输入模型之前，需要将样本中的string转变为int\n",
    "# 采用和上面train set相同的encoder来编码\n",
    "encoded_sample=np.empty(np.array(new_sample).shape)\n",
    "for i,item in enumerate(new_sample):\n",
    "    encoded_sample[i]=int(label_encoder[i].transform([item])) \n",
    "    # 这儿的item一定要加【】,否则报错。而且要转变为int类型\n",
    "print(encoded_sample.reshape(1,-1)) # 和上面打印的print(encoder.classes_)对应一致\n",
    "\n",
    "# 用成熟分类模型对该新样本进行分类，得到分类结果：\n",
    "output=rf_classifier.predict(encoded_sample.reshape(1,-1))\n",
    "print('output: {}, class: {}'.format(output,\n",
    "       label_encoder[-1].inverse_transform(output)[0]))"
   ]
  },
  {
   "cell_type": "code",
   "execution_count": 7,
   "metadata": {},
   "outputs": [
    {
     "name": "stdout",
     "output_type": "stream",
     "text": [
      "n_estimators optimization results-------->>>\n",
      "train scores: \n",
      "  [[0.78549223 0.80144778 0.80785124 0.79338843 0.80165289]\n",
      " [0.8        0.80972079 0.81095041 0.81921488 0.83057851]\n",
      " [0.8134715  0.81075491 0.81095041 0.81404959 0.81714876]\n",
      " [0.80621762 0.81282316 0.81095041 0.81921488 0.82231405]\n",
      " [0.80932642 0.81075491 0.80991736 0.81818182 0.81301653]\n",
      " [0.80621762 0.81178904 0.80681818 0.81714876 0.80165289]\n",
      " [0.80621762 0.80868666 0.8088843  0.81921488 0.80371901]\n",
      " [0.80725389 0.81282316 0.80681818 0.81921488 0.80268595]\n",
      " [0.80621762 0.81385729 0.80681818 0.82128099 0.80371901]\n",
      " [0.80725389 0.81178904 0.80371901 0.82128099 0.80371901]\n",
      " [0.80518135 0.81178904 0.80371901 0.82128099 0.80578512]\n",
      " [0.80725389 0.81178904 0.80268595 0.82128099 0.80165289]\n",
      " [0.80829016 0.81385729 0.80371901 0.82128099 0.80578512]\n",
      " [0.80414508 0.81178904 0.80371901 0.82128099 0.80578512]\n",
      " [0.80414508 0.81178904 0.80578512 0.82128099 0.80475207]\n",
      " [0.80725389 0.81282316 0.80578512 0.82128099 0.80578512]\n",
      " [0.80725389 0.81282316 0.80578512 0.82128099 0.80578512]\n",
      " [0.80829016 0.81282316 0.80681818 0.82231405 0.80475207]\n",
      " [0.80829016 0.81282316 0.80681818 0.82128099 0.80268595]\n",
      " [0.80725389 0.81385729 0.80681818 0.82128099 0.79855372]]\n",
      "--------------------------------------------------------------------------------\n",
      "valid scores: \n",
      "  [[0.77459016 0.79338843 0.80082988 0.76763485 0.80497925]\n",
      " [0.79918033 0.79338843 0.80497925 0.80082988 0.8340249 ]\n",
      " [0.81967213 0.80578512 0.80082988 0.78008299 0.82572614]\n",
      " [0.79918033 0.80991736 0.7966805  0.78838174 0.82572614]\n",
      " [0.81557377 0.80991736 0.80082988 0.78838174 0.81742739]\n",
      " [0.80737705 0.80165289 0.79253112 0.79253112 0.81742739]\n",
      " [0.80737705 0.80578512 0.80082988 0.78838174 0.81742739]\n",
      " [0.80737705 0.80578512 0.79253112 0.80082988 0.81742739]\n",
      " [0.80327869 0.80165289 0.79253112 0.80082988 0.81742739]\n",
      " [0.80737705 0.80578512 0.79253112 0.80082988 0.81742739]\n",
      " [0.80327869 0.80578512 0.79253112 0.80082988 0.81742739]\n",
      " [0.80327869 0.80578512 0.79253112 0.80082988 0.81742739]\n",
      " [0.80737705 0.80165289 0.79253112 0.80082988 0.81742739]\n",
      " [0.79508197 0.79752066 0.79253112 0.80082988 0.81742739]\n",
      " [0.79918033 0.79752066 0.79253112 0.80082988 0.81742739]\n",
      " [0.79918033 0.80991736 0.79253112 0.80082988 0.81742739]\n",
      " [0.79918033 0.80578512 0.79253112 0.80082988 0.81742739]\n",
      " [0.80737705 0.80991736 0.79253112 0.80082988 0.81742739]\n",
      " [0.80327869 0.80578512 0.79253112 0.80082988 0.81742739]\n",
      " [0.80327869 0.80578512 0.79253112 0.80082988 0.81327801]]\n"
     ]
    }
   ],
   "source": [
    "# 提升模型的分类效果：优化模型的某个参数，\n",
    "# 第一步：优化n_estimators参数\n",
    "from sklearn.model_selection import validation_curve\n",
    "optimize_classifier1=RandomForestClassifier(max_depth=4,random_state=37)\n",
    "parameter_grid=np.linspace(20,400,20).astype(int)\n",
    "train_scores,valid_scores=validation_curve(optimize_classifier1,train_X,train_y,\n",
    "                                           'n_estimators',parameter_grid,cv=5) \n",
    "# cv=4，会输出4列结果，cv=5，会输出5列结果，\n",
    "# 故而输出的结果train_scores 的shape为（parameter_grid.shape[0],cv）\n",
    "\n",
    "# 打印优化结果\n",
    "print('n_estimators optimization results-------->>>')\n",
    "print('train scores: \\n ',train_scores)\n",
    "print('-'*80)\n",
    "print('valid scores: \\n ',valid_scores)\n"
   ]
  },
  {
   "cell_type": "code",
   "execution_count": 8,
   "metadata": {},
   "outputs": [],
   "source": [
    "# 定义一个绘图函数，绘制train scores 和valid scores\n",
    "def plot_valid_curve(grid_arr,train_scores,valid_scores,\n",
    "                     title=None,x_label=None,y_label=None):\n",
    "    '''plot train_scores and valid_scores into a line graph'''\n",
    "    assert train_scores.shape==valid_scores.shape, \\\n",
    "        'expect train_scores and valid_scores have same shape'\n",
    "    assert grid_arr.shape[0]==train_scores.shape[0], \\\n",
    "        'expect grid_arr has the same first dim with train_scores'\n",
    "    plt.figure()\n",
    "    plt.plot(grid_arr, 100*np.average(train_scores, axis=1), \n",
    "             color='blue',marker='v',label='train_scores')\n",
    "    plt.plot(grid_arr, 100*np.average(valid_scores, axis=1), \n",
    "             color='red',marker='s',label='valid_scores')\n",
    "    plt.title(title) if title is not None else None\n",
    "    plt.xlabel(x_label) if x_label is not None else None\n",
    "    plt.ylabel(y_label) if y_label is not None else None\n",
    "    plt.legend()\n",
    "    plt.show()"
   ]
  },
  {
   "cell_type": "code",
   "execution_count": 9,
   "metadata": {},
   "outputs": [
    {
     "data": {
      "image/png": "[encoded data removed]",
      "text/plain": [
       "<Figure size 432x288 with 1 Axes>"
      ]
     },
     "metadata": {},
     "output_type": "display_data"
    }
   ],
   "source": [
    "plot_valid_curve(parameter_grid,train_scores,valid_scores,\n",
    "                 title='n_estimators optimization graph',\n",
    "                 x_label='Num of estimators',y_label='Accuracy%')"
   ]
  },
  {
   "cell_type": "code",
   "execution_count": 10,
   "metadata": {},
   "outputs": [
    {
     "data": {
      "image/png": "[encoded data removed]",
      "text/plain": [
       "<Figure size 432x288 with 1 Axes>"
      ]
     },
     "metadata": {},
     "output_type": "display_data"
    }
   ],
   "source": [
    "# 第二步：对n_estimators做进一步细致优化\n",
    "# 图中可以看出，n_estimators在100以内所得到的准确率最高，故而需要进一步做更精细的优化\n",
    "parameter_grid2=np.linspace(20,120,20).astype(int)\n",
    "train_scores,valid_scores=validation_curve(optimize_classifier1,train_X,train_y,\n",
    "                                           'n_estimators',parameter_grid2,cv=5) \n",
    "plot_valid_curve(parameter_grid2,train_scores,valid_scores,\n",
    "                 title='2nd n_estimators optimization graph',\n",
    "                 x_label='Num of estimators',y_label='Accuracy%')\n",
    "# 从图中可以看出准确率最高的点是第6,7，12附近，对应的estimators是46,51,77，\n",
    "# 故而后面暂定为50"
   ]
  },
  {
   "cell_type": "code",
   "execution_count": 11,
   "metadata": {},
   "outputs": [
    {
     "name": "stdout",
     "output_type": "stream",
     "text": [
      "[ 2  3  4  5  6  7  8  9 10 11 13]\n"
     ]
    },
    {
     "data": {
      "image/png": "[encoded data removed]",
      "text/plain": [
       "<Figure size 432x288 with 1 Axes>"
      ]
     },
     "metadata": {},
     "output_type": "display_data"
    }
   ],
   "source": [
    "# 第三步：对max_depth进行优化：\n",
    "optimize_classifier2=RandomForestClassifier(n_estimators=50,random_state=37)\n",
    "parameter_grid3=np.linspace(2,13,11).astype(int)\n",
    "print(parameter_grid3) # [ 2  3  4  5  6  7  8  9 10 11 13]\n",
    "train_scores3,valid_scores3=validation_curve(optimize_classifier2,train_X,train_y,\n",
    "                                           'max_depth',parameter_grid3,cv=5) \n",
    "plot_valid_curve(parameter_grid3,train_scores3,valid_scores3,\n",
    "                 title='max_depth optimization graph',\n",
    "                 x_label='Num of max_depth',y_label='Accuracy%')\n",
    "# 从图中可以看出，取max_depth=10，11,13时准确率一样，故而取max_depth=10"
   ]
  },
  {
   "cell_type": "code",
   "execution_count": 12,
   "metadata": {},
   "outputs": [
    {
     "data": {
      "image/png": "[encoded data removed]",
      "text/plain": [
       "<Figure size 432x288 with 1 Axes>"
      ]
     },
     "metadata": {},
     "output_type": "display_data"
    }
   ],
   "source": [
    "# 前面都是优化随机森林分类器的内置参数，但是没有考虑训练集的大小对模型效果的影响\n",
    "# 前面都是用traiin_X来优化模型，train_X含有1209个样本，\n",
    "# 下面考察一下训练集样本大小对模型效果的影响--即学习曲线\n",
    "from sklearn.model_selection import learning_curve\n",
    "# optimize_classifier3=RandomForestClassifier(random_state=37)\n",
    "optimize_classifier3=RandomForestClassifier(n_estimators=50,\n",
    "                                            max_depth=10,\n",
    "                                            random_state=37)\n",
    "parameter_grid4=np.array([0.1,0.2,0.3,0.4,0.5,0.6,0.7,.8,.9,1.]) # dataset最多有1728个样本\n",
    "train_sizes,train_scores4,valid_scores4=learning_curve(optimize_classifier3,\n",
    "                                                       dataset_X,dataset_y,\n",
    "                                          train_sizes=parameter_grid4,cv=5) \n",
    "# print(train_sizes) # [ 138  276  414  552  691  829  967 1105 1243 1382]\n",
    "# 最大也只能到dataset_X样本数的80%，即1728*0.8=1382\n",
    "plot_valid_curve(parameter_grid4,train_scores4,valid_scores4,\n",
    "                 title='train_size optimization graph',\n",
    "                 x_label='Num of train_size',y_label='Accuracy%')\n",
    "# 可以看出，在train_size=1382时得到的准确率最大，约为80%左右。"
   ]
  },
  {
   "cell_type": "code",
   "execution_count": 13,
   "metadata": {},
   "outputs": [
    {
     "name": "stdout",
     "output_type": "stream",
     "text": [
      "准确率：89.32%\n"
     ]
    },
    {
     "name": "stderr",
     "output_type": "stream",
     "text": [
      "c:\\users\\dingr\\appdata\\local\\programs\\python\\python35\\lib\\site-packages\\sklearn\\metrics\\classification.py:1135: UndefinedMetricWarning: Precision is ill-defined and being set to 0.0 in labels with no predicted samples.\n",
      "  'precision', 'predicted', average, warn_for)\n",
      "c:\\users\\dingr\\appdata\\local\\programs\\python\\python35\\lib\\site-packages\\sklearn\\metrics\\classification.py:1135: UndefinedMetricWarning: Precision is ill-defined and being set to 0.0 in labels with no predicted samples.\n",
      "  'precision', 'predicted', average, warn_for)\n",
      "c:\\users\\dingr\\appdata\\local\\programs\\python\\python35\\lib\\site-packages\\sklearn\\metrics\\classification.py:1135: UndefinedMetricWarning: Precision is ill-defined and being set to 0.0 in labels with no predicted samples.\n",
      "  'precision', 'predicted', average, warn_for)\n"
     ]
    },
    {
     "name": "stdout",
     "output_type": "stream",
     "text": [
      "精确度：88.49%\n",
      "召回率：89.32%\n"
     ]
    },
    {
     "name": "stderr",
     "output_type": "stream",
     "text": [
      "c:\\users\\dingr\\appdata\\local\\programs\\python\\python35\\lib\\site-packages\\sklearn\\metrics\\classification.py:1135: UndefinedMetricWarning: F-score is ill-defined and being set to 0.0 in labels with no predicted samples.\n",
      "  'precision', 'predicted', average, warn_for)\n",
      "c:\\users\\dingr\\appdata\\local\\programs\\python\\python35\\lib\\site-packages\\sklearn\\metrics\\classification.py:1135: UndefinedMetricWarning: F-score is ill-defined and being set to 0.0 in labels with no predicted samples.\n",
      "  'precision', 'predicted', average, warn_for)\n"
     ]
    },
    {
     "name": "stdout",
     "output_type": "stream",
     "text": [
      "F1  值：88.45%\n",
      "confusion_mat: ------->>>>>\n",
      "[[ 71   7   5   0]\n",
      " [  1   9   0   1]\n",
      " [  0   0 235   0]\n",
      " [  1   0   0  16]]\n",
      "**************************************************\n",
      "classification report: -------->>>>>>\n",
      "             precision    recall  f1-score   support\n",
      "\n",
      "          0       0.97      0.86      0.91        83\n",
      "          1       0.56      0.82      0.67        11\n",
      "          2       0.98      1.00      0.99       235\n",
      "          3       0.94      0.94      0.94        17\n",
      "\n",
      "avg / total       0.96      0.96      0.96       346\n",
      "\n"
     ]
    },
    {
     "name": "stderr",
     "output_type": "stream",
     "text": [
      "c:\\users\\dingr\\appdata\\local\\programs\\python\\python35\\lib\\site-packages\\sklearn\\metrics\\classification.py:1135: UndefinedMetricWarning: F-score is ill-defined and being set to 0.0 in labels with no predicted samples.\n",
      "  'precision', 'predicted', average, warn_for)\n"
     ]
    }
   ],
   "source": [
    "# 用所有最优参数来重新构建模型，并判断此模型的好坏\n",
    "train_X, test_X, train_y, test_y=train_test_split(dataset_X,dataset_y,\n",
    "                                                  test_size=0.2,random_state=42)\n",
    "# 最佳训练集大小为80%\n",
    "\n",
    "rf_classifier=RandomForestClassifier(n_estimators=50,max_depth=10,random_state=37)\n",
    "rf_classifier.fit(train_X,train_y) # 用训练集进行训练\n",
    "print_model_evaluations(rf_classifier,test_X,test_y)    \n",
    "test_y_pred=rf_classifier.predict(test_X)\n",
    "confusion_mat = confusion_matrix(test_y, test_y_pred)\n",
    "print('confusion_mat: ------->>>>>')\n",
    "print(confusion_mat) #看看混淆矩阵长啥样\n",
    "print('*'*50)\n",
    "print('classification report: -------->>>>>>')\n",
    "print(classification_report(test_y, test_y_pred))"
   ]
  },
  {
   "cell_type": "code",
   "execution_count": null,
   "metadata": {},
   "outputs": [],
   "source": []
  }
 ],
 "metadata": {
  "kernelspec": {
   "display_name": "Python 3",
   "language": "python",
   "name": "python3"
  },
  "language_info": {
   "codemirror_mode": {
    "name": "ipython",
    "version": 3
   },
   "file_extension": ".py",
   "mimetype": "text/x-python",
   "name": "python",
   "nbconvert_exporter": "python",
   "pygments_lexer": "ipython3",
   "version": "3.5.2"
  }
 },
 "nbformat": 4,
 "nbformat_minor": 2
}
