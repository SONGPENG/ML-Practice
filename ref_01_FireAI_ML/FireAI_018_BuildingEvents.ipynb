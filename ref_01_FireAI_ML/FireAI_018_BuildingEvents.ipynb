{
 "cells": [
  {
   "cell_type": "code",
   "execution_count": 1,
   "metadata": {},
   "outputs": [],
   "source": [
    "import numpy as np\n",
    "import pandas as pd\n",
    "import matplotlib.pyplot as plt\n",
    "%matplotlib inline\n",
    "np.random.seed(37) # 使得每次运行得到的随机数都一样"
   ]
  },
  {
   "cell_type": "code",
   "execution_count": 2,
   "metadata": {},
   "outputs": [
    {
     "name": "stdout",
     "output_type": "stream",
     "text": [
      "<class 'pandas.core.frame.DataFrame'>\n",
      "RangeIndex: 10080 entries, 0 to 10079\n",
      "Data columns (total 4 columns):\n",
      "0    10080 non-null int64\n",
      "1    10080 non-null object\n",
      "2    10080 non-null object\n",
      "3    10080 non-null int64\n",
      "dtypes: int64(2), object(2)\n",
      "memory usage: 315.1+ KB\n",
      "None\n",
      "<class 'pandas.core.frame.DataFrame'>\n",
      "RangeIndex: 30 entries, 0 to 29\n",
      "Data columns (total 4 columns):\n",
      "0    30 non-null object\n",
      "1    30 non-null object\n",
      "2    30 non-null object\n",
      "3    30 non-null object\n",
      "dtypes: object(4)\n",
      "memory usage: 1.0+ KB\n",
      "None\n"
     ]
    }
   ],
   "source": [
    "# 1 准备数据集\n",
    "# 从文件中加载数据集\n",
    "feature_data_path='E:\\PyProjects\\DataSet\\BuildingInOut/CalIt2.data'\n",
    "feature_set=pd.read_csv(feature_data_path,header=None)\n",
    "print(feature_set.info())\n",
    "# print(feature_set.head()) \n",
    "# print(feature_set.tail()) # 检查没有问题\n",
    "\n",
    "label_data_path='E:\\PyProjects\\DataSet\\BuildingInOut/CalIt2.events'\n",
    "label_set=pd.read_csv(label_data_path,header=None)\n",
    "print(label_set.info())\n",
    "# print(label_set.head())\n",
    "# print(label_set.tail()) # 读取没有问题，但是第三列有问题，没有将数字和event分开。\n"
   ]
  },
  {
   "cell_type": "code",
   "execution_count": 3,
   "metadata": {},
   "outputs": [],
   "source": [
    "# 对label_set中第二列去除后面的分号\n",
    "need_split_col=label_set.iloc[:,3]\n",
    "label_set.iloc[:,3]=need_split_col.map(lambda x: int(x.split(';')[0].strip()))\n",
    "label_set[4]=need_split_col.map(lambda x: x.split(';')[1].strip())\n",
    "# print(label_set.info()) # 此处的第三列10,20等整数估计代表event的代号，此处用不上\n",
    "# print(label_set.head()) # 处理后正常\n"
   ]
  },
  {
   "cell_type": "code",
   "execution_count": 4,
   "metadata": {},
   "outputs": [],
   "source": [
    "# 将feature_set中进楼和出楼的人员统计到一行。\n",
    "# 目前数据集中出楼人员（代号7）位于偶数行，进楼人员（代号9）位于奇数行。\n",
    "# 可以使用for in 方式依次取出各行的人员数，但此处我更愿意使用布尔型索引\n",
    "code_7=feature_set[0]==7\n",
    "code_7_data=feature_set[code_7].iloc[:,3].reset_index(drop=True)\n",
    "code_9=feature_set[0]==9\n",
    "code_9_data=feature_set[code_9].reset_index(drop=True)\n",
    "# print(code_9_data)# OK\n",
    "feature_set2=code_9_data\n",
    "feature_set2[4]=code_7_data\n",
    "feature_set2.drop([0],axis=1,inplace=True) # 删除第0列\n",
    "# print(feature_set2) # col3 表示in，col4表示out，打印没有问题\n",
    "# feature_set2.to_csv('d:/feature_set2.csv') # 保存以便查看是否有误"
   ]
  },
  {
   "cell_type": "code",
   "execution_count": 5,
   "metadata": {},
   "outputs": [],
   "source": [
    "# 下面是如何将feature_set2和label_set整合到一个DataFrame中来\n",
    "# 要判断时间，如果feature_set2中的日期和时间都落在了label_set对应的时间内，\n",
    "# 则表示有event发生，用1表示，如果没有，用0表示。\n",
    "# 比较日期时间的方法有很多，此处我采用比较简单的方法\n",
    "feature_set2[5]=0 # 表示是否有event的列都初始化为0\n",
    "\n",
    "def calc_mins(time_str):\n",
    "    nums=time_str.split(':')\n",
    "    return 60*int(nums[0])+int(nums[1]) # 将时间转换为分钟数，此处不用考虑秒\n",
    "\n",
    "for row_id,date in enumerate(label_set[0]): # 先取出label中的日期\n",
    "    temp_df=feature_set2[feature_set2[1]==date]\n",
    "    if temp_df is None:\n",
    "        continue\n",
    "    \n",
    "    start_min=calc_mins(label_set.iloc[row_id,1])\n",
    "    stop_min=calc_mins(label_set.iloc[row_id,2])\n",
    "    for row in temp_df[2]: # 在逐一判断时间是否位于label中时间之间\n",
    "        feature_min=calc_mins(row)\n",
    "        if feature_min>=start_min and feature_min<=stop_min: \n",
    "            feature_row=temp_df[temp_df[2]==row].index.tolist()\n",
    "            feature_set2.loc[feature_row,5]=1 \n",
    "        \n",
    "# feature_set2.to_csv('d:/feature_set2_withLabel.csv') # 保存后打印查看没有问题\n",
    "        "
   ]
  },
  {
   "cell_type": "code",
   "execution_count": 6,
   "metadata": {},
   "outputs": [
    {
     "name": "stdout",
     "output_type": "stream",
     "text": [
      "      0         1         2  3  4  5\n",
      "5035  6  11/05/05  21:30:00  0  0  0\n",
      "5036  6  11/05/05  22:00:00  0  3  0\n",
      "5037  6  11/05/05  22:30:00  0  0  0\n",
      "5038  6  11/05/05  23:00:00  0  0  0\n",
      "5039  6  11/05/05  23:30:00  0  1  0\n"
     ]
    }
   ],
   "source": [
    "# 进一步处理，由于日期在以后的日子里不可重复，作为feature并不合适，而可以用星期数来代替，\n",
    "feature_set2[0]=pd.to_datetime(feature_set2[1])\n",
    "# print(feature_set2.tail())\n",
    "feature_set2[0]=feature_set2[0].map(lambda x: x.strftime('%w')) # 将日期转换为星期数\n",
    "feature_set2=feature_set2.reindex(columns=range(6))\n",
    "print(feature_set2.tail()) # 查看转换没有问题\n",
    "feature_set2.to_csv('E:\\PyProjects\\DataSet\\BuildingInOut/Sorted_Set.txt') # 将整理好的数据集保存，下次可以直接读取"
   ]
  },
  {
   "cell_type": "code",
   "execution_count": 7,
   "metadata": {},
   "outputs": [
    {
     "name": "stdout",
     "output_type": "stream",
     "text": [
      "      0   2  3  4  5\n",
      "5035  6  43  0  0  0\n",
      "5036  6  44  0  3  0\n",
      "5037  6  45  0  0  0\n",
      "5038  6  46  0  0  0\n",
      "5039  6  47  0  1  0\n"
     ]
    }
   ],
   "source": [
    "# 由于第1列只是包含日期，作为特征向量并不合适，故而需要删除\n",
    "feature_set2.drop([1],axis=1,inplace=True)\n",
    "# 而第2列明显是字符串类型，里面的内容对机器学习而言如同天书，故需要编码\n",
    "from sklearn import preprocessing\n",
    "time_encoder=preprocessing.LabelEncoder()\n",
    "feature_set2[2]=time_encoder.fit_transform(feature_set2[2])\n",
    "print(feature_set2.tail())"
   ]
  },
  {
   "cell_type": "code",
   "execution_count": 8,
   "metadata": {},
   "outputs": [],
   "source": [
    "dataset_X,dataset_y=feature_set2.iloc[:,:-1].values,feature_set2.iloc[:,-1].values\n",
    "# 拆分数据集为train set和test set\n",
    "from sklearn.model_selection import train_test_split\n",
    "train_X, test_X, train_y, test_y=train_test_split(dataset_X,dataset_y,\n",
    "                                                  test_size=0.3,random_state=42)\n",
    "# print(train_X.shape) # (3528, 4)\n",
    "# print(train_y.shape) # (3528,)\n",
    "# print(test_X.shape) # (1512, 4)"
   ]
  },
  {
   "cell_type": "code",
   "execution_count": 9,
   "metadata": {},
   "outputs": [
    {
     "data": {
      "text/plain": [
       "SVC(C=1.0, cache_size=200, class_weight='balanced', coef0=0.0,\n",
       "  decision_function_shape='ovr', degree=3, gamma='auto', kernel='rbf',\n",
       "  max_iter=-1, probability=True, random_state=None, shrinking=True,\n",
       "  tol=0.001, verbose=False)"
      ]
     },
     "execution_count": 9,
     "metadata": {},
     "output_type": "execute_result"
    }
   ],
   "source": [
    "# 下面是使用SVM构建分类器\n",
    "from sklearn.svm import SVC\n",
    "classifier=SVC(kernel='rbf',probability=True,class_weight='balanced')\n",
    "classifier.fit(train_X,train_y)"
   ]
  },
  {
   "cell_type": "code",
   "execution_count": 10,
   "metadata": {},
   "outputs": [
    {
     "name": "stderr",
     "output_type": "stream",
     "text": [
      "e:\\programsoft\\python\\lib\\site-packages\\sklearn\\cross_validation.py:41: DeprecationWarning: This module was deprecated in version 0.18 in favor of the model_selection module into which all the refactored classes and functions are moved. Also note that the interface of the new CV iterators are different from that of this module. This module will be removed in 0.20.\n",
      "  \"This module will be removed in 0.20.\", DeprecationWarning)\n"
     ]
    },
    {
     "name": "stdout",
     "output_type": "stream",
     "text": [
      "准确率：93.78%\n",
      "精确度：92.96%\n",
      "召回率：93.78%\n",
      "F1  值：92.96%\n"
     ]
    }
   ],
   "source": [
    "# 用交叉验证来检验模型的准确性，只是在test set上验证准确性\n",
    "from sklearn.cross_validation import cross_val_score\n",
    "num_validations=5\n",
    "accuracy=cross_val_score(classifier,test_X,test_y,\n",
    "                         scoring='accuracy',cv=num_validations)\n",
    "print('准确率：{:.2f}%'.format(accuracy.mean()*100))\n",
    "precision=cross_val_score(classifier,test_X,test_y,\n",
    "                         scoring='precision_weighted',cv=num_validations)\n",
    "print('精确度：{:.2f}%'.format(precision.mean()*100))\n",
    "recall=cross_val_score(classifier,test_X,test_y,\n",
    "                         scoring='recall_weighted',cv=num_validations)\n",
    "print('召回率：{:.2f}%'.format(recall.mean()*100))\n",
    "f1=cross_val_score(classifier,test_X,test_y,\n",
    "                         scoring='f1_weighted',cv=num_validations)\n",
    "print('F1  值：{:.2f}%'.format(f1.mean()*100))\n"
   ]
  },
  {
   "cell_type": "code",
   "execution_count": 11,
   "metadata": {},
   "outputs": [
    {
     "name": "stdout",
     "output_type": "stream",
     "text": [
      "[['2' '19' '20' '12']\n",
      " ['2' '23' '26' '9']\n",
      " ['6' '25' '4' '22']\n",
      " ['0' '10' '1' '0']]\n",
      "has events? [0 1 0 0]\n"
     ]
    }
   ],
   "source": [
    "# 看起来该模型的预测效果很不错\n",
    "# 那么用它来对新样本数据进行预测，会是什么样了？\n",
    "new_samples=np.array([[2,'09:30:00',20,12], # 即某个星期二，上午9点-9点半时间段，进大楼20人，出大楼12人\n",
    "             [2,'11:30:00',26,9],\n",
    "             [6,'12:30:00',4,22],\n",
    "             [0,'05:00:00',1,0]])\n",
    "transformed=time_encoder.transform(new_samples[:,1])\n",
    "# print(transformed) # 检查OK\n",
    "new_samples[:,1]=transformed\n",
    "print(new_samples)\n",
    "\n",
    "# 使用classifier进行预测\n",
    "output_class = classifier.predict(new_samples)\n",
    "print('has events? {}'.format(output_class))"
   ]
  },
  {
   "cell_type": "code",
   "execution_count": null,
   "metadata": {},
   "outputs": [],
   "source": []
  },
  {
   "cell_type": "code",
   "execution_count": null,
   "metadata": {},
   "outputs": [],
   "source": []
  }
 ],
 "metadata": {
  "kernelspec": {
   "display_name": "Python 3",
   "language": "python",
   "name": "python3"
  },
  "language_info": {
   "codemirror_mode": {
    "name": "ipython",
    "version": 3
   },
   "file_extension": ".py",
   "mimetype": "text/x-python",
   "name": "python",
   "nbconvert_exporter": "python",
   "pygments_lexer": "ipython3",
   "version": "3.6.6"
  }
 },
 "nbformat": 4,
 "nbformat_minor": 2
}
