{
 "cells": [
  {
   "cell_type": "code",
   "execution_count": 1,
   "metadata": {},
   "outputs": [],
   "source": [
    "import numpy as np\n",
    "import pandas as pd\n",
    "import matplotlib.pyplot as plt\n",
    "%matplotlib inline\n",
    "np.random.seed(37) # 使得每次运行得到的随机数都一样"
   ]
  },
  {
   "cell_type": "code",
   "execution_count": 2,
   "metadata": {},
   "outputs": [],
   "source": [
    "# 第一步：准备数据集\n",
    "from sklearn.datasets import samples_generator\n",
    "# 使用这个函数产生示例数据\n",
    "X,y=samples_generator.make_classification(n_informative=4,\n",
    "                                          n_features=20,\n",
    "                                          n_redundant=0,\n",
    "                                          random_state=5)\n",
    "# 产生一个分类数据集，包含有100个样本，20个features，2个类别，没有冗余特征。\n",
    "# print(X.shape) # (100, 20)\n",
    "# print(y.shape)  # (100,)\n",
    "# print(X[:3]) # 查看没有问题"
   ]
  },
  {
   "cell_type": "code",
   "execution_count": 3,
   "metadata": {},
   "outputs": [],
   "source": [
    "# 第二步：建立特征选择器\n",
    "from sklearn.feature_selection import SelectKBest, f_regression\n",
    "feature_selector=SelectKBest(f_regression,k=10) \n",
    "# 一共20个特征向量，我们从中选择最重要的10个特征向量\n"
   ]
  },
  {
   "cell_type": "code",
   "execution_count": 4,
   "metadata": {},
   "outputs": [],
   "source": [
    "# 第三步：建立分类器\n",
    "from sklearn.ensemble import RandomForestClassifier\n",
    "classifier=RandomForestClassifier(n_estimators=50,max_depth=4)\n",
    "# 此处构建随机森林分类器作为例子，参数随便指定"
   ]
  },
  {
   "cell_type": "code",
   "execution_count": 5,
   "metadata": {},
   "outputs": [
    {
     "data": {
      "text/plain": [
       "Pipeline(memory=None,\n",
       "     steps=[('selector', SelectKBest(k=5, score_func=<function f_regression at 0x000000001890B950>)), ('rf_classifier', RandomForestClassifier(bootstrap=True, class_weight=None, criterion='gini',\n",
       "            max_depth=4, max_features='auto', max_leaf_nodes=None,\n",
       "            min_impurity_decrease=0.0, min...n_jobs=1,\n",
       "            oob_score=False, random_state=None, verbose=0,\n",
       "            warm_start=False))])"
      ]
     },
     "execution_count": 5,
     "metadata": {},
     "output_type": "execute_result"
    }
   ],
   "source": [
    "# 第四步：组装完整流水线\n",
    "from sklearn.pipeline import Pipeline\n",
    "pipeline=Pipeline([('selector',feature_selector),\n",
    "                   ('rf_classifier',classifier)])\n",
    "# 修改流水线中参数设置\n",
    "# 假如我们希望特征选择器不是选择10个特征，而是5个特征，\n",
    "# 同时分类器中的参数n_estimators也要修改一下，可以采用：\n",
    "pipeline.set_params(selector__k=5,\n",
    "                    rf_classifier__n_estimators=25)\n"
   ]
  },
  {
   "cell_type": "code",
   "execution_count": 6,
   "metadata": {},
   "outputs": [
    {
     "name": "stdout",
     "output_type": "stream",
     "text": [
      "pipeline model score: 0.930\n"
     ]
    }
   ],
   "source": [
    "# 将数据输入到流水线中\n",
    "pipeline.fit(X,y) # 对流水线进行训练\n",
    "\n",
    "predict_y=pipeline.predict(X) #用训练好的流水线预测样本\n",
    "# print(predict_y)\n",
    "\n",
    "# 评估该流水线的模型性能\n",
    "print('pipeline model score: {:.3f}'.format(pipeline.score(X,y)))"
   ]
  },
  {
   "cell_type": "code",
   "execution_count": 7,
   "metadata": {},
   "outputs": [
    {
     "name": "stdout",
     "output_type": "stream",
     "text": [
      "selected features by pipeline, (0-indexed): \n",
      "[5, 9, 10, 11, 15]\n"
     ]
    }
   ],
   "source": [
    "# 查看特征选择器选择的特征：\n",
    "feature_status=pipeline.named_steps['selector'].get_support()\n",
    "# get_support()会返回true/false，如果支持该feature，则为true.\n",
    "selected_features=[]\n",
    "for count,item in enumerate(feature_status):\n",
    "    if item: selected_features.append(count)\n",
    "print('selected features by pipeline, (0-indexed): \\n{}'.format(\n",
    "        selected_features))"
   ]
  },
  {
   "cell_type": "code",
   "execution_count": null,
   "metadata": {},
   "outputs": [],
   "source": []
  }
 ],
 "metadata": {
  "kernelspec": {
   "display_name": "Python 3",
   "language": "python",
   "name": "python3"
  },
  "language_info": {
   "codemirror_mode": {
    "name": "ipython",
    "version": 3
   },
   "file_extension": ".py",
   "mimetype": "text/x-python",
   "name": "python",
   "nbconvert_exporter": "python",
   "pygments_lexer": "ipython3",
   "version": "3.6.6"
  }
 },
 "nbformat": 4,
 "nbformat_minor": 2
}
