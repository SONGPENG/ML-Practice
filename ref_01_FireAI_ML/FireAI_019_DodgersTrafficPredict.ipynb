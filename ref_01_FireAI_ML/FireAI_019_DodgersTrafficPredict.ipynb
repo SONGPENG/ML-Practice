{
 "cells": [
  {
   "cell_type": "code",
   "execution_count": 1,
   "metadata": {},
   "outputs": [],
   "source": [
    "import numpy as np\n",
    "import pandas as pd\n",
    "import matplotlib.pyplot as plt\n",
    "%matplotlib inline\n",
    "np.random.seed(37) # 使得每次运行得到的随机数都一样"
   ]
  },
  {
   "cell_type": "code",
   "execution_count": 2,
   "metadata": {},
   "outputs": [
    {
     "name": "stdout",
     "output_type": "stream",
     "text": [
      "<class 'pandas.core.frame.DataFrame'>\n",
      "RangeIndex: 50400 entries, 0 to 50399\n",
      "Data columns (total 2 columns):\n",
      "0    50400 non-null object\n",
      "1    50400 non-null int64\n",
      "dtypes: int64(1), object(1)\n",
      "memory usage: 787.6+ KB\n",
      "None\n",
      "<class 'pandas.core.frame.DataFrame'>\n",
      "RangeIndex: 81 entries, 0 to 80\n",
      "Data columns (total 6 columns):\n",
      "0    81 non-null object\n",
      "1    81 non-null object\n",
      "2    81 non-null object\n",
      "3    81 non-null int64\n",
      "4    81 non-null object\n",
      "5    81 non-null object\n",
      "dtypes: int64(1), object(5)\n",
      "memory usage: 3.9+ KB\n",
      "None\n"
     ]
    }
   ],
   "source": [
    "# 1 准备数据集\n",
    "# 从文件中加载数据集\n",
    "feature_data_path='E:\\PyProjects\\DataSet\\BuildingInOut/Dodgers.data'\n",
    "feature_set=pd.read_csv(feature_data_path,header=None)\n",
    "print(feature_set.info())\n",
    "# print(feature_set.head()) \n",
    "# print(feature_set.tail()) # 检查没有问题\n",
    "\n",
    "label_data_path='E:\\PyProjects\\DataSet\\BuildingInOut/Dodgers_utf8.events'\n",
    "label_set=pd.read_csv(label_data_path,header=None)\n",
    "print(label_set.info())\n",
    "# print(label_set.head())\n",
    "# print(label_set.tail()) \n",
    "# 读取没有问题，虽然最后一列有？，但我们用不到这一列，故不予理睬"
   ]
  },
  {
   "cell_type": "code",
   "execution_count": 3,
   "metadata": {},
   "outputs": [
    {
     "name": "stdout",
     "output_type": "stream",
     "text": [
      "                0   1\n",
      "0  4/11/2005 7:35  23\n",
      "1  4/11/2005 7:40  42\n",
      "2  4/11/2005 7:45  37\n",
      "3  4/11/2005 7:50  24\n",
      "4  4/11/2005 7:55  39\n",
      "           0   1     2\n",
      "0  4/11/2005  23  7:35\n",
      "1  4/11/2005  42  7:40\n",
      "2  4/11/2005  37  7:45\n",
      "3  4/11/2005  24  7:50\n",
      "4  4/11/2005  39  7:55\n"
     ]
    }
   ],
   "source": [
    "# 删除缺失数据\n",
    "feature_set2=feature_set[feature_set[1]!=-1] # 只获取不是-1的DataFrame即可。\n",
    "# print(feature_set2) # 没有问题\n",
    "\n",
    "feature_set2=feature_set2.reset_index(drop=True)\n",
    "print(feature_set2.head())\n",
    "# 第0列既包含日期，又包含时间，故要拆分成两列\n",
    "need_split_col=feature_set2[0].copy()\n",
    "feature_set2[0]=need_split_col.map(lambda x: x.split()[0].strip())\n",
    "feature_set2[2]=need_split_col.map(lambda x: x.split()[1].strip())\n",
    "print(feature_set2.head()) # 拆分没有问题"
   ]
  },
  {
   "cell_type": "code",
   "execution_count": 4,
   "metadata": {},
   "outputs": [
    {
     "name": "stdout",
     "output_type": "stream",
     "text": [
      "0   2005-04-11\n",
      "1   2005-04-11\n",
      "2   2005-04-11\n",
      "3   2005-04-11\n",
      "4   2005-04-11\n",
      "Name: 0, dtype: datetime64[ns]\n",
      "0   2005-04-12\n",
      "1   2005-04-13\n",
      "2   2005-04-15\n",
      "3   2005-04-16\n",
      "4   2005-04-17\n",
      "Name: 0, dtype: datetime64[ns]\n"
     ]
    }
   ],
   "source": [
    "# 将两个DataFrame中的日期格式统一，两个DataFrame中的日期目前还是String类型，格式不统一无法比较\n",
    "feature_set2[0]=pd.to_datetime(feature_set2[0])\n",
    "print(feature_set2[0][:5]) # 打印第0列的前5行\n",
    "\n",
    "label_set[0]=pd.to_datetime(label_set[0])\n",
    "print(label_set[0][:5])\n"
   ]
  },
  {
   "cell_type": "code",
   "execution_count": 5,
   "metadata": {},
   "outputs": [],
   "source": [
    "# 合并两个文件到一个数据集中\n",
    "feature_set2[3]='NoName' # 对手球队名称暂时用NoName来初始化 \n",
    "feature_set2[4]=0 # 是否比赛期间暂时用否来代替\n",
    "\n",
    "def calc_mins(time_str):\n",
    "    nums=time_str.split(':')\n",
    "    return 60*int(nums[0])+int(nums[1]) # 将时间转换为分钟数\n",
    "\n",
    "for row_id,date in enumerate(label_set[0]): # 先取出label中的日期\n",
    "    temp_df=feature_set2[feature_set2[0]==date]\n",
    "    if temp_df is None:\n",
    "        continue\n",
    "    \n",
    "    # 只要这一天有比赛，不管是不是正在比赛，都把对手球队名称写入第3列\n",
    "    rows=temp_df.index.tolist()\n",
    "    feature_set2.loc[rows,3]=label_set.iloc[row_id,4]\n",
    "    start_min=calc_mins(label_set.iloc[row_id,1])\n",
    "    stop_min=calc_mins(label_set.iloc[row_id,2])\n",
    "    for row in temp_df[2]: # 在逐一判断时间是否位于label中时间之间\n",
    "        feature_min=calc_mins(row)\n",
    "        if feature_min>=start_min and feature_min<=stop_min: \n",
    "            feature_row=temp_df[temp_df[2]==row].index.tolist()\n",
    "            feature_set2.loc[feature_row,4]=1 \n",
    "        \n",
    "# feature_set2.to_csv('d:/feature_set2_Dodgers.csv') # 保存后打印查看没有问题"
   ]
  },
  {
   "cell_type": "code",
   "execution_count": 6,
   "metadata": {},
   "outputs": [
    {
     "name": "stdout",
     "output_type": "stream",
     "text": [
      "               0      2  5        3  4   1\n",
      "22411 2005-09-29  23:35  4  Arizona  0   9\n",
      "22412 2005-09-29  23:40  4  Arizona  0  13\n",
      "22413 2005-09-29  23:45  4  Arizona  0  11\n",
      "22414 2005-09-29  23:50  4  Arizona  0  14\n",
      "22415 2005-09-29  23:55  4  Arizona  0  17\n"
     ]
    }
   ],
   "source": [
    "feature_set3=feature_set2[feature_set2[3]!='NoName'].reset_index(drop=True) # 去掉NoName的样本\n",
    "\n",
    "# 进一步处理，由于日期在以后的日子里不可重复，作为feature并不合适，而可以用星期数来代替，\n",
    "feature_set3[5]=feature_set3[0].map(lambda x: x.strftime('%w')) # 将日期转换为星期数\n",
    "feature_set3=feature_set3.reindex(columns=[0,2,5,3,4,1])\n",
    "print(feature_set3.tail()) # 查看转换没有问题\n",
    "\n",
    "# feature_set3.to_csv('E:\\PyProjects\\DataSet\\BuildingInOut/Dodgers_Sorted_Set.txt') # 将整理好的数据集保存，下次可以直接读取"
   ]
  },
  {
   "cell_type": "code",
   "execution_count": 7,
   "metadata": {},
   "outputs": [
    {
     "name": "stdout",
     "output_type": "stream",
     "text": [
      "         2  5  3  4   1\n",
      "22411  187  4  0  0   9\n",
      "22412  188  4  0  0  13\n",
      "22413  189  4  0  0  11\n",
      "22414  190  4  0  0  14\n",
      "22415  191  4  0  0  17\n"
     ]
    }
   ],
   "source": [
    "# 由于第0列只是包含日期，作为特征向量并不合适，故而需要删除\n",
    "feature_set3.drop([0],axis=1,inplace=True)\n",
    "# 而第3列明显是字符串类型，里面的内容对机器学习而言如同天书，故需要编码\n",
    "from sklearn import preprocessing\n",
    "player_encoder=preprocessing.LabelEncoder()\n",
    "feature_set3[3]=player_encoder.fit_transform(feature_set3[3])\n",
    "\n",
    "time_encoder=preprocessing.LabelEncoder()\n",
    "feature_set3[2]=time_encoder.fit_transform(feature_set3[2])\n",
    "\n",
    "print(feature_set3.tail())"
   ]
  },
  {
   "cell_type": "code",
   "execution_count": 8,
   "metadata": {},
   "outputs": [],
   "source": [
    "dataset_X,dataset_y=feature_set3.iloc[:,:-1].values,feature_set3.iloc[:,-1].values\n",
    "# 拆分数据集为train set和test set\n",
    "from sklearn.model_selection import train_test_split\n",
    "train_X, test_X, train_y, test_y=train_test_split(dataset_X,dataset_y,\n",
    "                                                  test_size=0.3,random_state=42)\n",
    "# print(train_X.shape) # (15691, 4)\n",
    "# print(train_y.shape) # (15691,)\n",
    "# print(test_X.shape) # (6725, 4)"
   ]
  },
  {
   "cell_type": "code",
   "execution_count": 9,
   "metadata": {},
   "outputs": [
    {
     "data": {
      "text/plain": [
       "SVR(C=10.0, cache_size=200, coef0=0.0, degree=3, epsilon=0.2, gamma='auto',\n",
       "  kernel='rbf', max_iter=-1, shrinking=True, tol=0.001, verbose=False)"
      ]
     },
     "execution_count": 9,
     "metadata": {},
     "output_type": "execute_result"
    }
   ],
   "source": [
    "from sklearn.svm import SVR # 此处不一样，导入的是SVR而不是SVC\n",
    "regressor = SVR(kernel='rbf',C=10.0,epsilon=0.2) # 这些参数是优化得来\n",
    "regressor.fit(train_X, train_y)\n"
   ]
  },
  {
   "cell_type": "code",
   "execution_count": 10,
   "metadata": {},
   "outputs": [
    {
     "name": "stdout",
     "output_type": "stream",
     "text": [
      "平均绝对误差：5.16\n",
      "均方误差MSE：50.45\n",
      "中位数绝对误差：3.75\n",
      "解释方差分：0.63\n",
      "R方得分：0.62\n"
     ]
    }
   ],
   "source": [
    "y_predict_test=regressor.predict(test_X)\n",
    "# 使用评价指标来评估模型的好坏\n",
    "import sklearn.metrics as metrics\n",
    "print('平均绝对误差：{}'.format(\n",
    "    round(metrics.mean_absolute_error(y_predict_test,test_y),2)))\n",
    "print('均方误差MSE：{}'.format(\n",
    "    round(metrics.mean_squared_error(y_predict_test,test_y),2)))\n",
    "print('中位数绝对误差：{}'.format(\n",
    "    round(metrics.median_absolute_error(y_predict_test,test_y),2)))\n",
    "print('解释方差分：{}'.format(\n",
    "    round(metrics.explained_variance_score(y_predict_test,test_y),2)))\n",
    "print('R方得分：{}'.format(\n",
    "    round(metrics.r2_score(y_predict_test,test_y),2)))\n"
   ]
  },
  {
   "cell_type": "code",
   "execution_count": null,
   "metadata": {},
   "outputs": [],
   "source": []
  }
 ],
 "metadata": {
  "kernelspec": {
   "display_name": "Python 3",
   "language": "python",
   "name": "python3"
  },
  "language_info": {
   "codemirror_mode": {
    "name": "ipython",
    "version": 3
   },
   "file_extension": ".py",
   "mimetype": "text/x-python",
   "name": "python",
   "nbconvert_exporter": "python",
   "pygments_lexer": "ipython3",
   "version": "3.6.6"
  }
 },
 "nbformat": 4,
 "nbformat_minor": 2
}
