{
 "cells": [
  {
   "cell_type": "code",
   "execution_count": 1,
   "metadata": {},
   "outputs": [],
   "source": [
    "import numpy as np\n",
    "import pandas as pd\n",
    "import matplotlib.pyplot as plt\n",
    "%matplotlib inline\n",
    "np.random.seed(37) # 使得每次运行得到的随机数都一样"
   ]
  },
  {
   "cell_type": "code",
   "execution_count": 2,
   "metadata": {},
   "outputs": [
    {
     "name": "stdout",
     "output_type": "stream",
     "text": [
      "<class 'pandas.core.frame.DataFrame'>\n",
      "RangeIndex: 250 entries, 0 to 249\n",
      "Data columns (total 2 columns):\n",
      "0    250 non-null float64\n",
      "1    250 non-null float64\n",
      "dtypes: float64(2)\n",
      "memory usage: 4.0 KB\n",
      "None\n"
     ]
    }
   ],
   "source": [
    "# 准备数据集\n",
    "data_path='E:\\PyProjects\\DataSet\\FireAI/data_perf.txt'\n",
    "df=pd.read_csv(data_path,header=None)\n",
    "print(df.info()) # 查看数据信息，确保没有错误\n",
    "# print('-'*100)\n",
    "dataset=df.values # 数据加载没有问题\n",
    "# print(dataset.shape) # (250, 2)"
   ]
  },
  {
   "cell_type": "code",
   "execution_count": 3,
   "metadata": {},
   "outputs": [
    {
     "data": {
      "text/plain": [
       "DBSCAN(algorithm='auto', eps=0.5, leaf_size=30, metric='euclidean',\n",
       "    metric_params=None, min_samples=5, n_jobs=1, p=None)"
      ]
     },
     "execution_count": 3,
     "metadata": {},
     "output_type": "execute_result"
    }
   ],
   "source": [
    "# 定义一个DBCSCAN模型，并用数据集训练它\n",
    "from sklearn.cluster import DBSCAN\n",
    "model=DBSCAN(eps=0.5,min_samples=5) # 此处的参数是随便指定\n",
    "model.fit(dataset)"
   ]
  },
  {
   "cell_type": "code",
   "execution_count": 4,
   "metadata": {},
   "outputs": [
    {
     "name": "stdout",
     "output_type": "stream",
     "text": [
      "si_score: 0.5134\n"
     ]
    }
   ],
   "source": [
    "# 使用轮廓系数评估模型的优虐\n",
    "from sklearn.metrics import silhouette_score\n",
    "si_score=silhouette_score(dataset,model.labels_)\n",
    "print('si_score: {:.4f}'.format(si_score))"
   ]
  },
  {
   "cell_type": "code",
   "execution_count": 5,
   "metadata": {},
   "outputs": [],
   "source": [
    "# 在定义DBSCAN时，往往我们很难知道最优的eps参数，\n",
    "# 故而可以通过遍历得到最优值\n",
    "def get_optimal_eps(dataset,eps_list):\n",
    "    '''get optimal eps param for DBSCAN \n",
    "       params: \n",
    "            dataset: the whole dataset.\n",
    "            eps_list: must be in np.linspace() format or list format.\n",
    "        return:\n",
    "            three values：optimal eps value, \n",
    "                optimal model with optimal eps\n",
    "                silhouette_scores of all candidate eps.\n",
    "        '''\n",
    "    scores=[]\n",
    "    models=[]\n",
    "    for eps in eps_list:\n",
    "        model=DBSCAN(eps=eps,min_samples=5).fit(dataset)\n",
    "        labels=model.labels_\n",
    "        label_num=len(np.unique(labels))\n",
    "        if label_num>1: # 需要判断label种类，因为如果只有一个label，silhouette_score报错\n",
    "            scores.append(silhouette_score(dataset,model.labels_))\n",
    "            models.append(model)\n",
    "        else:\n",
    "            scores.append(0)\n",
    "            models.append(None)\n",
    "    optimal_id=scores.index(max(scores))\n",
    "    return eps_list[optimal_id],models[optimal_id],scores"
   ]
  },
  {
   "cell_type": "code",
   "execution_count": 6,
   "metadata": {},
   "outputs": [
    {
     "name": "stdout",
     "output_type": "stream",
     "text": [
      "optimal eps: 0.8000, \n",
      "candidate eps: [0.3 0.4 0.5 0.6 0.7 0.8 0.9 1.  1.1 1.2 1.3 1.4 1.5 1.6 1.7], \n",
      "scores: [0.12865164017329436, 0.3593618148137507, 0.5134143263329637, 0.616532168834258, 0.6321600450689241, 0.6366395861050828, 0.5141678956134529, 0.5629298661962946, 0.5629298661962946, 0.5629298661962946, 0, 0, 0, 0, 0]\n"
     ]
    }
   ],
   "source": [
    "optimal_eps, optimal_model,scores=get_optimal_eps(dataset,np.linspace(0.3, 1.7, num=15))\n",
    "print('optimal eps: {:.4f}, \\ncandidate eps: {}, \\nscores: {}'.format(optimal_eps,np.linspace(0.3,1.7,15),scores))"
   ]
  },
  {
   "cell_type": "code",
   "execution_count": 7,
   "metadata": {},
   "outputs": [
    {
     "name": "stdout",
     "output_type": "stream",
     "text": [
      "clusters num:  5\n"
     ]
    }
   ],
   "source": [
    "# 上述函数得到了最佳eps参数和该最佳参数下的最佳模型，我们可以从该最佳模型中得到一些属性\n",
    "labels=optimal_model.labels_\n",
    "label_num=len(np.unique(labels))\n",
    "# 但是有标记为-1的样本\n",
    "# 这些样本是没有分配集群的样本，被认为是异常点。\n",
    "if -1 in labels:\n",
    "    label_num-=1 # 需要减一个类别，减去异常点\n",
    "print('clusters num: ',label_num) # 最佳模型划分的簇群数量，\n",
    "\n",
    "\n",
    "# print(labels)\n",
    "# DBSCAN模型中可以得到核心样本的数据点坐标\n",
    "# 首先获取核心样本的坐标索引\n",
    "core_index=optimal_model.core_sample_indices_\n",
    "# print(core_index)\n",
    "mask_core=np.zeros(labels.shape,dtype=np.bool)\n",
    "mask_core[model.core_sample_indices_]=True\n",
    "# print(mask_core)"
   ]
  },
  {
   "cell_type": "code",
   "execution_count": 8,
   "metadata": {},
   "outputs": [],
   "source": [
    "def visual_2D_dataset(dataset_X,dataset_y):\n",
    "        '''将二维数据集dataset_X和对应的类别dataset_y显示在散点图中'''\n",
    "        assert dataset_X.shape[1]==2,'only support dataset with 2 features'\n",
    "        classes=list(set(dataset_y)) \n",
    "        markers=['.',',','o','v','^','<','>','1','2','3','4','8'\n",
    "                 ,'s','p','*','h','H','+','x','D','d','|']\n",
    "        # colors=['b','c','g','k','m','w','r','y']\n",
    "        colors=['tab:blue', 'tab:orange', 'tab:green', 'tab:red', 'tab:purple', \n",
    "                'tab:brown', 'tab:pink', 'tab:gray', 'tab:olive', 'tab:cyan']\n",
    "        plt.figure()\n",
    "        for class_id in classes:\n",
    "            one_class=np.array([feature for (feature,label) in \n",
    "                       zip(dataset_X,dataset_y) if label==class_id])\n",
    "            plt.scatter(one_class[:,0],one_class[:,1],marker=markers[class_id%len(markers)],\n",
    "                        c=colors[class_id%len(colors)],label='class_'+str(class_id))\n",
    "        plt.legend()"
   ]
  },
  {
   "cell_type": "code",
   "execution_count": 9,
   "metadata": {},
   "outputs": [
    {
     "data": {
      "image/png": "[encoded data removed]",
      "text/plain": [
       "<Figure size 432x288 with 1 Axes>"
      ]
     },
     "metadata": {},
     "output_type": "display_data"
    }
   ],
   "source": [
    "visual_2D_dataset(dataset,labels)"
   ]
  },
  {
   "cell_type": "code",
   "execution_count": null,
   "metadata": {},
   "outputs": [],
   "source": []
  }
 ],
 "metadata": {
  "kernelspec": {
   "display_name": "Python 3",
   "language": "python",
   "name": "python3"
  },
  "language_info": {
   "codemirror_mode": {
    "name": "ipython",
    "version": 3
   },
   "file_extension": ".py",
   "mimetype": "text/x-python",
   "name": "python",
   "nbconvert_exporter": "python",
   "pygments_lexer": "ipython3",
   "version": "3.6.6"
  }
 },
 "nbformat": 4,
 "nbformat_minor": 2
}
