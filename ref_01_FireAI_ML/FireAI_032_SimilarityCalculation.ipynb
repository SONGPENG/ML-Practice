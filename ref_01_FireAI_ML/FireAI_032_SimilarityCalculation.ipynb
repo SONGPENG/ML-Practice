{
 "cells": [
  {
   "cell_type": "code",
   "execution_count": 1,
   "metadata": {},
   "outputs": [],
   "source": [
    "import numpy as np\n",
    "import pandas as pd\n",
    "import matplotlib.pyplot as plt\n",
    "%matplotlib inline\n",
    "np.random.seed(37) "
   ]
  },
  {
   "cell_type": "code",
   "execution_count": 2,
   "metadata": {},
   "outputs": [],
   "source": [
    "# 定义一个函数来计算两个用户之间的欧式距离\n",
    "def euclidean_distance(dataset,user1,user2):\n",
    "    # 首先要排除一种情况，如果数据集中不存在同时被两个用户评价过的电影，\n",
    "    # 则表示两个用户之间的没有相似度，直接返回0\n",
    "    both_rated_num=0 # 表示同时被两个用户都评价过的电影的数目\n",
    "    for item in dataset[user1]: # 在user1评价过的电影中\n",
    "        if item in dataset[user2]: # 如果user2也评价过，则+1\n",
    "            both_rated_num+=1\n",
    "    if both_rated_num==0:# 不存在同时被两个用户都评价过的电影\n",
    "        return 0 # 直接返回0，表示两个用户之间相似度为0\n",
    "    \n",
    "    squared_difference=[] # 每一个元素表示同时被两个用户都评价过的电影得分的欧式距离\n",
    "    for item in dataset[user1]:\n",
    "        if item in dataset[user2]:\n",
    "            squared_difference.append(np.square(dataset[user1][item]-dataset[user2][item]))\n",
    "    return 1/(1+np.sqrt(np.sum(squared_difference)))\n"
   ]
  },
  {
   "cell_type": "code",
   "execution_count": 3,
   "metadata": {},
   "outputs": [
    {
     "name": "stdout",
     "output_type": "stream",
     "text": [
      " Euclidean score:  0.29429805508554946\n"
     ]
    }
   ],
   "source": [
    "# 原始的电影评价数据都放置在 movie_ratings.json文件中，我们加载进来看看结果\n",
    "import json\n",
    "with open(\"E:\\PyProjects\\DataSet\\FireAI\\movie_ratings.json\",'r') as file:\n",
    "    dataset=json.loads(file.read())\n",
    "    \n",
    "# 现在计算两个随机用户之间的欧式距离\n",
    "user1='John Carson'\n",
    "user2='Michelle Peterson'\n",
    "print(\" Euclidean score: \",euclidean_distance(dataset,user1,user2))"
   ]
  },
  {
   "cell_type": "code",
   "execution_count": 4,
   "metadata": {},
   "outputs": [],
   "source": [
    "# 定义一个函数来计算两个用户之间的皮尔逊相关系数\n",
    "def pearson_score(dataset,user1,user2):\n",
    "    # 和上面的函数类似，先排除相似度为0的情况\n",
    "#     both_rated_num=0 # 表示同时被两个用户都评价过的电影的数目\n",
    "#     for item in dataset[user1]: # 在user1评价过的电影中\n",
    "#         if item in dataset[user2]: # 如果user2也评价过，则+1\n",
    "#             both_rated_num+=1\n",
    "#     if both_rated_num==0:# 不存在同时被两个用户都评价过的电影\n",
    "#         return 0 # 直接返回0，表示两个用户之间相似度为0\n",
    "\n",
    "    both_rated={}\n",
    "    for item in dataset[user1]:\n",
    "        if item in dataset[user2]:\n",
    "            both_rated[item]=1\n",
    "    num_ratings=len(both_rated)\n",
    "    if num_ratings==0: # 不存在同时被两个用户都评价过的电影\n",
    "        return 0\n",
    "    \n",
    "    # 计算每个用户对每个相同电影的评价之和\n",
    "    user1_sum=np.sum([dataset[user1][item] for item in both_rated])\n",
    "    user2_sum=np.sum([dataset[user2][item] for item in both_rated])\n",
    "    \n",
    "    # 计算每个用户对每个相同电影的评价的平方和\n",
    "    user1_squared_sum = np.sum([np.square(dataset[user1][item]) for item in both_rated])\n",
    "    user2_squared_sum = np.sum([np.square(dataset[user2][item]) for item in both_rated])\n",
    "\n",
    "    # 计算两个用户的相同电影的乘积\n",
    "    product_sum=np.sum([dataset[user1][item]*dataset[user2][item] for item in both_rated])\n",
    "    \n",
    "    # 计算Pearson 相关系数\n",
    "    Sxy = product_sum - (user1_sum * user2_sum / num_ratings)\n",
    "    Sxx = user1_squared_sum - np.square(user1_sum) / num_ratings\n",
    "    Syy = user2_squared_sum - np.square(user2_sum) / num_ratings\n",
    "    \n",
    "    if Sxx * Syy == 0:\n",
    "        return 0\n",
    "\n",
    "    return Sxy / np.sqrt(Sxx * Syy)"
   ]
  },
  {
   "cell_type": "code",
   "execution_count": 5,
   "metadata": {},
   "outputs": [
    {
     "name": "stdout",
     "output_type": "stream",
     "text": [
      " Peason score:  0.39605901719066977\n"
     ]
    }
   ],
   "source": [
    "# 原始的电影评价数据都放置在 movie_ratings.json文件中，我们加载进来看看结果\n",
    "import json\n",
    "with open(\"E:\\PyProjects\\DataSet\\FireAI\\movie_ratings.json\",'r') as file:\n",
    "    dataset=json.loads(file.read())\n",
    "    \n",
    "# 现在计算两个随机用户之间的欧式距离\n",
    "user1='John Carson'\n",
    "user2='Michelle Peterson'\n",
    "print(\" Peason score: \",pearson_score(dataset,user1,user2))"
   ]
  },
  {
   "cell_type": "code",
   "execution_count": null,
   "metadata": {},
   "outputs": [],
   "source": []
  }
 ],
 "metadata": {
  "kernelspec": {
   "display_name": "Python 3",
   "language": "python",
   "name": "python3"
  },
  "language_info": {
   "codemirror_mode": {
    "name": "ipython",
    "version": 3
   },
   "file_extension": ".py",
   "mimetype": "text/x-python",
   "name": "python",
   "nbconvert_exporter": "python",
   "pygments_lexer": "ipython3",
   "version": "3.6.6"
  }
 },
 "nbformat": 4,
 "nbformat_minor": 2
}
