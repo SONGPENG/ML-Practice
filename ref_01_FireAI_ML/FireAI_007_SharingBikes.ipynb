{
 "cells": [
  {
   "cell_type": "code",
   "execution_count": 1,
   "metadata": {},
   "outputs": [],
   "source": [
    "import numpy as np\n",
    "import pandas as pd\n",
    "import matplotlib.pyplot as plt\n",
    "%matplotlib inline\n",
    "np.random.seed(37) # 使得每次运行得到的随机数都一样"
   ]
  },
  {
   "cell_type": "code",
   "execution_count": 2,
   "metadata": {},
   "outputs": [
    {
     "name": "stdout",
     "output_type": "stream",
     "text": [
      "<class 'pandas.core.frame.DataFrame'>\n",
      "Int64Index: 731 entries, 1 to 731\n",
      "Data columns (total 12 columns):\n",
      "season        731 non-null int64\n",
      "yr            731 non-null int64\n",
      "mnth          731 non-null int64\n",
      "holiday       731 non-null int64\n",
      "weekday       731 non-null int64\n",
      "workingday    731 non-null int64\n",
      "weathersit    731 non-null int64\n",
      "temp          731 non-null float64\n",
      "atemp         731 non-null float64\n",
      "hum           731 non-null float64\n",
      "windspeed     731 non-null float64\n",
      "cnt           731 non-null int64\n",
      "dtypes: float64(4), int64(8)\n",
      "memory usage: 74.2 KB\n",
      "None\n"
     ]
    }
   ],
   "source": [
    "# 首先分析数据集\n",
    "dataset_path='D:\\PyProjects\\DataSet\\SharingBikes/day.csv' # 首先只分析day 数据\n",
    "# 首先加载数据集\n",
    "raw_df=pd.read_csv(dataset_path,index_col=0)\n",
    "# print(raw_df.shape)  # (731, 15)\n",
    "# print(raw_df.head()) # 查看是否正确加载\n",
    "# print(raw_df.columns)\n",
    "# 删除不需要的列，第1列，第12,13列\n",
    "df=raw_df.drop(['dteday','casual','registered'],axis=1)\n",
    "# print(df.shape) # (731, 12)\n",
    "# print(df.head()) # 查看没有问题\n",
    "print(df.info()) # 没有缺失值 第一列为object,需要进行转换\n",
    "# print(df.columns)\n",
    "\n",
    "# 分隔数据集\n",
    "dataset=df.as_matrix() # 将pandas转为np.ndarray\n",
    "\n",
    "# 将整个数据集分隔成train set和test set\n",
    "from sklearn.model_selection import train_test_split\n",
    "train_set,test_set=train_test_split(dataset,test_size=0.1,random_state=37)\n",
    "# print(train_set.shape) # (657, 12)\n",
    "# print(test_set.shape) # (74, 12)\n",
    "# print(dataset[:3])\n"
   ]
  },
  {
   "cell_type": "code",
   "execution_count": 3,
   "metadata": {},
   "outputs": [
    {
     "name": "stdout",
     "output_type": "stream",
     "text": [
      "随机森林回归模型的评测结果----->>>\n",
      "均方误差MSE：291769.31\n",
      "解释方差分：0.92\n",
      "R平方得分：0.92\n"
     ]
    }
   ],
   "source": [
    "# 其次，构建随机森林回归器模型\n",
    "from sklearn.ensemble import RandomForestRegressor \n",
    "rf_regressor=RandomForestRegressor()\n",
    "# rf_regressor=RandomForestRegressor(n_estimators=1000,max_depth=10,min_samples_split=0.5)\n",
    "\n",
    "rf_regressor.fit(train_set[:,:-1],train_set[:,-1]) # 训练模型\n",
    "\n",
    "# 使用测试集来评价该回归模型\n",
    "predict_test_y=rf_regressor.predict(test_set[:,:-1])\n",
    "\n",
    "import sklearn.metrics as metrics\n",
    "print('随机森林回归模型的评测结果----->>>')\n",
    "print('均方误差MSE：{}'.format(\n",
    "    round(metrics.mean_squared_error(predict_test_y,test_set[:,-1]),2)))\n",
    "print('解释方差分：{}'.format(\n",
    "    round(metrics.explained_variance_score(predict_test_y,test_set[:,-1]),2)))\n",
    "print('R平方得分：{}'.format(\n",
    "    round(metrics.r2_score(predict_test_y,test_set[:,-1]),2)))"
   ]
  },
  {
   "cell_type": "code",
   "execution_count": 4,
   "metadata": {},
   "outputs": [],
   "source": [
    "# 计算不同特征的相对重要性\n",
    "def plot_importances(feature_importances, title, feature_names):\n",
    "    '''将feature_importance绘制到图表中，便于观察，\n",
    "    并把重要性大于5的特征打印出来'''\n",
    "    # 将重要性都归一化为0-100之内\n",
    "    feature_importances=100.0*(feature_importances/max(feature_importances))\n",
    "\n",
    "    # 将得分从高到低排序\n",
    "    index_sorted=np.flipud(np.argsort(feature_importances))\n",
    "    # 让X坐标轴上的标签居中显示\n",
    "    pos=np.arange(index_sorted.shape[0])+0.5\n",
    "    \n",
    "    # 画条形图\n",
    "    plt.figure()\n",
    "    plt.bar(pos,feature_importances[index_sorted],align='center')\n",
    "    plt.xticks(pos,feature_names[index_sorted])\n",
    "    plt.ylabel('Relative Importance')\n",
    "    plt.title(title)\n",
    "    \n",
    "    # 把重要性结果打印出来\n",
    "    print('{} importance list------>>>>>'.format(title))\n",
    "    for importance,name in zip(feature_importances[index_sorted],\n",
    "                               feature_names[index_sorted]):\n",
    "        if importance>5:\n",
    "            print('feature:{}, importance: {:.2f}'.format(name,importance))"
   ]
  },
  {
   "cell_type": "code",
   "execution_count": 5,
   "metadata": {},
   "outputs": [
    {
     "name": "stdout",
     "output_type": "stream",
     "text": [
      "RF regressor importance list------>>>>>\n",
      "feature:temp, importance: 100.00\n",
      "feature:yr, importance: 68.65\n",
      "feature:hum, importance: 19.10\n",
      "feature:season, importance: 16.66\n",
      "feature:atemp, importance: 10.53\n",
      "feature:windspeed, importance: 10.19\n",
      "feature:mnth, importance: 6.61\n"
     ]
    },
    {
     "data": {
      "image/png": "[encoded data removed]",
      "text/plain": [
       "<Figure size 432x288 with 1 Axes>"
      ]
     },
     "metadata": {},
     "output_type": "display_data"
    }
   ],
   "source": [
    "# print(np.array(df.columns[:-1]))\n",
    "plot_importances(rf_regressor.feature_importances_,\n",
    "                 'RF regressor',np.array(df.columns[:-1]))"
   ]
  },
  {
   "cell_type": "code",
   "execution_count": null,
   "metadata": {},
   "outputs": [],
   "source": []
  }
 ],
 "metadata": {
  "kernelspec": {
   "display_name": "Python 3",
   "language": "python",
   "name": "python3"
  },
  "language_info": {
   "codemirror_mode": {
    "name": "ipython",
    "version": 3
   },
   "file_extension": ".py",
   "mimetype": "text/x-python",
   "name": "python",
   "nbconvert_exporter": "python",
   "pygments_lexer": "ipython3",
   "version": "3.5.2"
  }
 },
 "nbformat": 4,
 "nbformat_minor": 2
}
