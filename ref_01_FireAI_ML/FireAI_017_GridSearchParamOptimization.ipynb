{
 "cells": [
  {
   "cell_type": "code",
   "execution_count": 1,
   "metadata": {},
   "outputs": [],
   "source": [
    "import numpy as np\n",
    "import pandas as pd\n",
    "import matplotlib.pyplot as plt\n",
    "%matplotlib inline\n",
    "np.random.seed(37) # 使得每次运行得到的随机数都一样"
   ]
  },
  {
   "cell_type": "code",
   "execution_count": 2,
   "metadata": {},
   "outputs": [
    {
     "name": "stdout",
     "output_type": "stream",
     "text": [
      "<class 'pandas.core.frame.DataFrame'>\n",
      "RangeIndex: 300 entries, 0 to 299\n",
      "Data columns (total 3 columns):\n",
      "0    300 non-null float64\n",
      "1    300 non-null float64\n",
      "2    300 non-null int64\n",
      "dtypes: float64(2), int64(1)\n",
      "memory usage: 7.1 KB\n",
      "None\n"
     ]
    }
   ],
   "source": [
    "# 准备数据集\n",
    "data_path='E:\\PyProjects\\DataSet\\FireAI/data_multivar_2_class.txt'\n",
    "df=pd.read_csv(data_path,header=None)\n",
    "# print(df.head()) # 没有问题\n",
    "print(df.info()) # 查看数据信息，确保没有错误\n",
    "dataset_X,dataset_y=df.iloc[:,:-1],df.iloc[:,-1]\n",
    "# print(dataset_X.head())\n",
    "# print(dataset_X.info())\n",
    "# print(dataset_y.head()) # 检查没问题\n",
    "dataset_X=dataset_X.values\n",
    "dataset_y=dataset_y.values"
   ]
  },
  {
   "cell_type": "code",
   "execution_count": 3,
   "metadata": {},
   "outputs": [],
   "source": [
    "# 将整个数据集划分为train set和test set\n",
    "from sklearn.model_selection import train_test_split\n",
    "train_X, test_X, train_y, test_y=train_test_split(\n",
    "    dataset_X,dataset_y,test_size=0.25,random_state=42)"
   ]
  },
  {
   "cell_type": "code",
   "execution_count": 7,
   "metadata": {},
   "outputs": [
    {
     "name": "stdout",
     "output_type": "stream",
     "text": [
      "Searching optimal hyperparameters for: precision\n"
     ]
    },
    {
     "name": "stderr",
     "output_type": "stream",
     "text": [
      "e:\\programsoft\\python\\lib\\site-packages\\sklearn\\metrics\\classification.py:1135: UndefinedMetricWarning: Precision is ill-defined and being set to 0.0 due to no predicted samples.\n",
      "  'precision', 'predicted', average, warn_for)\n",
      "e:\\programsoft\\python\\lib\\site-packages\\sklearn\\metrics\\classification.py:1135: UndefinedMetricWarning: Precision is ill-defined and being set to 0.0 due to no predicted samples.\n",
      "  'precision', 'predicted', average, warn_for)\n",
      "e:\\programsoft\\python\\lib\\site-packages\\sklearn\\metrics\\classification.py:1135: UndefinedMetricWarning: Precision is ill-defined and being set to 0.0 due to no predicted samples.\n",
      "  'precision', 'predicted', average, warn_for)\n",
      "e:\\programsoft\\python\\lib\\site-packages\\sklearn\\metrics\\classification.py:1135: UndefinedMetricWarning: Precision is ill-defined and being set to 0.0 due to no predicted samples.\n",
      "  'precision', 'predicted', average, warn_for)\n",
      "e:\\programsoft\\python\\lib\\site-packages\\sklearn\\metrics\\classification.py:1135: UndefinedMetricWarning: Precision is ill-defined and being set to 0.0 due to no predicted samples.\n",
      "  'precision', 'predicted', average, warn_for)\n"
     ]
    },
    {
     "name": "stdout",
     "output_type": "stream",
     "text": [
      "\n",
      "Scores across the parameter grid:\n",
      "{'C': 1, 'kernel': 'linear'}: avg_scores: 0.809\n",
      "{'C': 10, 'kernel': 'linear'}: avg_scores: 0.809\n",
      "{'C': 50, 'kernel': 'linear'}: avg_scores: 0.809\n",
      "{'C': 600, 'kernel': 'linear'}: avg_scores: 0.809\n",
      "{'degree': 2, 'kernel': 'poly'}: avg_scores: 0.859\n",
      "{'degree': 3, 'kernel': 'poly'}: avg_scores: 0.852\n",
      "{'C': 1, 'gamma': 0.01, 'kernel': 'rbf'}: avg_scores: 1.0\n",
      "{'C': 1, 'gamma': 0.001, 'kernel': 'rbf'}: avg_scores: 0.0\n",
      "{'C': 10, 'gamma': 0.01, 'kernel': 'rbf'}: avg_scores: 0.968\n",
      "{'C': 10, 'gamma': 0.001, 'kernel': 'rbf'}: avg_scores: 0.855\n",
      "{'C': 50, 'gamma': 0.01, 'kernel': 'rbf'}: avg_scores: 0.946\n",
      "{'C': 50, 'gamma': 0.001, 'kernel': 'rbf'}: avg_scores: 0.975\n",
      "{'C': 600, 'gamma': 0.01, 'kernel': 'rbf'}: avg_scores: 0.948\n",
      "{'C': 600, 'gamma': 0.001, 'kernel': 'rbf'}: avg_scores: 0.968\n",
      "\n",
      "Highest scoring parameter set: {'C': 1, 'gamma': 0.01, 'kernel': 'rbf'}\n",
      "\n",
      "Full performance report:\n",
      "              precision    recall  f1-score   support\n",
      "\n",
      "          0       0.75      1.00      0.86        36\n",
      "          1       1.00      0.69      0.82        39\n",
      "\n",
      "avg / total       0.88      0.84      0.84        75\n",
      "\n",
      "Searching optimal hyperparameters for: recall_weighted\n",
      "\n",
      "Scores across the parameter grid:\n",
      "{'C': 1, 'kernel': 'linear'}: avg_scores: 0.653\n",
      "{'C': 10, 'kernel': 'linear'}: avg_scores: 0.653\n",
      "{'C': 50, 'kernel': 'linear'}: avg_scores: 0.653\n",
      "{'C': 600, 'kernel': 'linear'}: avg_scores: 0.653\n",
      "{'degree': 2, 'kernel': 'poly'}: avg_scores: 0.889\n",
      "{'degree': 3, 'kernel': 'poly'}: avg_scores: 0.884\n",
      "{'C': 1, 'gamma': 0.01, 'kernel': 'rbf'}: avg_scores: 0.76\n",
      "{'C': 1, 'gamma': 0.001, 'kernel': 'rbf'}: avg_scores: 0.507\n",
      "{'C': 10, 'gamma': 0.01, 'kernel': 'rbf'}: avg_scores: 0.907\n",
      "{'C': 10, 'gamma': 0.001, 'kernel': 'rbf'}: avg_scores: 0.658\n",
      "{'C': 50, 'gamma': 0.01, 'kernel': 'rbf'}: avg_scores: 0.92\n",
      "{'C': 50, 'gamma': 0.001, 'kernel': 'rbf'}: avg_scores: 0.72\n",
      "{'C': 600, 'gamma': 0.01, 'kernel': 'rbf'}: avg_scores: 0.933\n",
      "{'C': 600, 'gamma': 0.001, 'kernel': 'rbf'}: avg_scores: 0.902\n",
      "\n",
      "Highest scoring parameter set: {'C': 600, 'gamma': 0.01, 'kernel': 'rbf'}\n",
      "\n",
      "Full performance report:\n",
      "              precision    recall  f1-score   support\n",
      "\n",
      "          0       1.00      0.92      0.96        36\n",
      "          1       0.93      1.00      0.96        39\n",
      "\n",
      "avg / total       0.96      0.96      0.96        75\n",
      "\n"
     ]
    }
   ],
   "source": [
    "from sklearn import svm, grid_search, cross_validation\n",
    "from sklearn.metrics import classification_report\n",
    "\n",
    "parameter_grid = [  {'kernel': ['linear'], 'C': [1, 10, 50, 600]}, # 需要优化的参数及其候选值\n",
    "                    {'kernel': ['poly'], 'degree': [2, 3]},\n",
    "                    {'kernel': ['rbf'], 'gamma': [0.01, 0.001], 'C': [1, 10, 50, 600]},\n",
    "                 ]\n",
    "\n",
    "metrics = ['precision', 'recall_weighted'] # 评价指标好坏的标准\n",
    "\n",
    "for metric in metrics:\n",
    "    print(\"Searching optimal hyperparameters for: {}\".format(metric))\n",
    "\n",
    "    classifier = grid_search.GridSearchCV(svm.SVC(C=1), \n",
    "            parameter_grid, cv=5, scoring=metric)\n",
    "    classifier.fit(train_X, train_y)\n",
    "\n",
    "    print(\"\\nScores across the parameter grid:\") \n",
    "    for params, avg_score, _ in classifier.grid_scores_:  # 打印出该参数下的模型得分\n",
    "        print('{}: avg_scores: {}'.format(params,round(avg_score,3)))\n",
    "\n",
    "    print(\"\\nHighest scoring parameter set: {}\".format(classifier.best_params_))\n",
    "\n",
    "    y_pred =classifier.predict(test_X) # 此处自动调用最佳参数？？\n",
    "    print(\"\\nFull performance report:\\n {}\".format(classification_report(test_y,y_pred)))\n"
   ]
  },
  {
   "cell_type": "code",
   "execution_count": 12,
   "metadata": {},
   "outputs": [
    {
     "name": "stdout",
     "output_type": "stream",
     "text": [
      "\n",
      "Full performance report:\n",
      "              precision    recall  f1-score   support\n",
      "\n",
      "          0       1.00      0.92      0.96        36\n",
      "          1       0.93      1.00      0.96        39\n",
      "\n",
      "avg / total       0.96      0.96      0.96        75\n",
      "\n"
     ]
    }
   ],
   "source": [
    "best_classifier=svm.SVC(C=600,gamma=0.01,kernel='rbf') # 上面的full performance report的确使用的是最佳参数组合\n",
    "best_classifier.fit(train_X, train_y)\n",
    "y_pred =best_classifier.predict(test_X)\n",
    "print(\"\\nFull performance report:\\n {}\".format(classification_report(test_y,y_pred)))"
   ]
  },
  {
   "cell_type": "code",
   "execution_count": 13,
   "metadata": {},
   "outputs": [
    {
     "name": "stdout",
     "output_type": "stream",
     "text": [
      "\n",
      "Full performance report on trainset:\n",
      "              precision    recall  f1-score   support\n",
      "\n",
      "          0       0.94      0.95      0.94       114\n",
      "          1       0.95      0.94      0.94       111\n",
      "\n",
      "avg / total       0.94      0.94      0.94       225\n",
      "\n"
     ]
    }
   ],
   "source": [
    "y_pred_train=best_classifier.predict(train_X)\n",
    "print(\"\\nFull performance report on trainset:\\n {}\".format(classification_report(train_y,y_pred_train)))"
   ]
  },
  {
   "cell_type": "code",
   "execution_count": null,
   "metadata": {},
   "outputs": [],
   "source": []
  }
 ],
 "metadata": {
  "kernelspec": {
   "display_name": "Python 3",
   "language": "python",
   "name": "python3"
  },
  "language_info": {
   "codemirror_mode": {
    "name": "ipython",
    "version": 3
   },
   "file_extension": ".py",
   "mimetype": "text/x-python",
   "name": "python",
   "nbconvert_exporter": "python",
   "pygments_lexer": "ipython3",
   "version": "3.6.6"
  }
 },
 "nbformat": 4,
 "nbformat_minor": 2
}
