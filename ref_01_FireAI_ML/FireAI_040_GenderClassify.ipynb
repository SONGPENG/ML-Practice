{
 "cells": [
  {
   "cell_type": "code",
   "execution_count": 1,
   "metadata": {},
   "outputs": [],
   "source": [
    "import numpy as np\n",
    "np.random.seed(37) # 使得每次运行得到的随机数都一样"
   ]
  },
  {
   "cell_type": "code",
   "execution_count": 2,
   "metadata": {},
   "outputs": [
    {
     "name": "stdout",
     "output_type": "stream",
     "text": [
      "2943\n",
      "5001\n",
      "[('Aamir', 'male'), ('Aaron', 'male'), ('Abbey', 'male'), ('Abbie', 'male'), ('Abbot', 'male')]\n",
      "[('Abagael', 'female'), ('Abagail', 'female'), ('Abbe', 'female')]\n",
      "(7944, 2)\n"
     ]
    }
   ],
   "source": [
    "# 1, 准备数据集，此次数据集来源于nltk.corpus内置的names文件\n",
    "from nltk.corpus import names\n",
    "male_names=[(name, 'male') for name in names.words('male.txt')]\n",
    "female_names=[(name,'female') for name in names.words('female.txt')]\n",
    "print(len(male_names)) # 2943\n",
    "print(len(female_names)) # 5001\n",
    "# 数据集中有2943个男性名字，5001个女性名字\n",
    "\n",
    "# 看看男性和女性的名字都是哪些。。。。\n",
    "print(male_names[:5])\n",
    "print(female_names[:3])\n",
    "\n",
    "# 将这些名字组成的list合并成一个数据集，第一列是名字，即features，第二列是性别，即label\n",
    "dataset=np.array(male_names+female_names)\n",
    "print(dataset.shape) # (7944, 2)没错"
   ]
  },
  {
   "cell_type": "code",
   "execution_count": 3,
   "metadata": {},
   "outputs": [
    {
     "name": "stdout",
     "output_type": "stream",
     "text": [
      "    name   sex len1 len2 len3  len4\n",
      "0  Aamir  male    r   ir  mir  amir\n",
      "1  Aaron  male    n   on  ron  aron\n",
      "2  Abbey  male    y   ey  bey  bbey\n",
      "3  Abbie  male    e   ie  bie  bbie\n",
      "4  Abbot  male    t   ot  bot  bbot\n"
     ]
    }
   ],
   "source": [
    "# 处理数据集\n",
    "# 我们难以确定到底是姓名后面的几个字母才和性别相关性最大，\n",
    "# 故而此处把后面的1-4个字母都取出来作为一个特征列\n",
    "# 用pandas 貌似更容易一些\n",
    "import pandas as pd\n",
    "dataset_df=pd.DataFrame(dataset,columns=['name','sex'])\n",
    "# print(dataset_df.info())\n",
    "# print(dataset_df.head()) # 检查没有问题\n",
    "\n",
    "for i in range(1,5): # 分别截取每个名字的后面i个字母\n",
    "    dataset_df['len'+str(i)]=dataset_df.name.map(lambda x: x[-i:].lower())\n",
    "    \n",
    "print(dataset_df.head())# 检查没有问题"
   ]
  },
  {
   "cell_type": "code",
   "execution_count": 4,
   "metadata": {},
   "outputs": [
    {
     "name": "stdout",
     "output_type": "stream",
     "text": [
      "Number of suffix: 1, accuracy on test set: 76.05%\n",
      "Number of suffix: 2, accuracy on test set: 77.89%\n",
      "Number of suffix: 3, accuracy on test set: 75.80%\n",
      "Number of suffix: 4, accuracy on test set: 71.56%\n"
     ]
    }
   ],
   "source": [
    "# 分别构建分类器，并训练后再测试集上看看效果\n",
    "dataset=dataset_df.values\n",
    "np.random.shuffle(dataset)\n",
    "rows=int(len(dataset)*0.7) # 70%为train set\n",
    "train_set,test_set=dataset[:rows],dataset[rows:]\n",
    "\n",
    "from nltk import NaiveBayesClassifier\n",
    "from nltk.classify import accuracy as nltk_accuracy\n",
    "for i in range(1,5): # 对每一列特征分别建模并训练\n",
    "    train_X,train_y=train_set[:,i+1],train_set[:,1]\n",
    "    train=[({'feature':feature},label) for (feature,label) in zip(train_X,train_y)] \n",
    "    # 后面的NaiveBayesClassifier 在train的时候需要()组成的list\n",
    "    clf=NaiveBayesClassifier.train(train)\n",
    "    \n",
    "    # 查看该模型在test set上的表现\n",
    "    test_X,test_y=test_set[:,i+1],test_set[:,1]\n",
    "    test=[({'feature':feature},label) for (feature,label) in zip(test_X,test_y)] \n",
    "    acc=nltk_accuracy(clf,test)\n",
    "    \n",
    "    print('Number of suffix: {}, accuracy on test set: {:.2f}%'\n",
    "          .format(i, 100*acc))"
   ]
  },
  {
   "cell_type": "code",
   "execution_count": null,
   "metadata": {},
   "outputs": [],
   "source": []
  },
  {
   "cell_type": "code",
   "execution_count": null,
   "metadata": {},
   "outputs": [],
   "source": []
  }
 ],
 "metadata": {
  "kernelspec": {
   "display_name": "Python 3",
   "language": "python",
   "name": "python3"
  },
  "language_info": {
   "codemirror_mode": {
    "name": "ipython",
    "version": 3
   },
   "file_extension": ".py",
   "mimetype": "text/x-python",
   "name": "python",
   "nbconvert_exporter": "python",
   "pygments_lexer": "ipython3",
   "version": "3.6.6"
  }
 },
 "nbformat": 4,
 "nbformat_minor": 2
}
