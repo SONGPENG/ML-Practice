{
 "cells": [
  {
   "cell_type": "code",
   "execution_count": 1,
   "metadata": {},
   "outputs": [
    {
     "name": "stdout",
     "output_type": "stream",
     "text": [
      "编码器列表：['凤姐' '张三' '王宝强' '翠花' '芙蓉姐姐']\n",
      "凤姐 --> 0\n",
      "张三 --> 1\n",
      "王宝强 --> 2\n",
      "翠花 --> 3\n",
      "芙蓉姐姐 --> 4\n",
      "\n",
      "编码之前的标记：['王宝强', '芙蓉姐姐', '翠花']\n",
      "编码之后的标记：[2 4 3]\n",
      "\n",
      "已经编码的标记代码：[1, 3, 0, 4]\n",
      "解码后的标记：['张三' '翠花' '凤姐' '芙蓉姐姐']\n"
     ]
    },
    {
     "name": "stderr",
     "output_type": "stream",
     "text": [
      "c:\\users\\dingr\\appdata\\local\\programs\\python\\python35\\lib\\site-packages\\sklearn\\preprocessing\\label.py:151: DeprecationWarning: The truth value of an empty array is ambiguous. Returning False, but in future this will result in an error. Use `array.size > 0` to check that an array is not empty.\n",
      "  if diff:\n"
     ]
    }
   ],
   "source": [
    "# *****************对label进行编码********************************\n",
    "from sklearn import preprocessing\n",
    "\n",
    "# 构建编码器\n",
    "encoder=preprocessing.LabelEncoder() # 先定义一个编码器对象\n",
    "raw_labels=['翠花','张三','王宝强','芙蓉姐姐','凤姐','王宝强','凤姐']\n",
    "encoder.fit(raw_labels) # 返回自己的一个实例\n",
    "print('编码器列表：{}'.format(encoder.classes_)) # 返回编码器中所有类别，已经排除了重复项\n",
    "for index,item in enumerate(encoder.classes_):\n",
    "    print('{} --> {}'.format(item,index))\n",
    "    \n",
    "# 使用编码器来编码新样本数据\n",
    "need_encode_labels=['王宝强','芙蓉姐姐','翠花']\n",
    "# need_encode_labels=['王宝强','芙蓉姐姐','翠花','无名氏'] \n",
    "# '无名氏'不存在编码器列表中，会报错\n",
    "encoded_labels=encoder.transform(need_encode_labels)\n",
    "print('\\n编码之前的标记：{}'.format(need_encode_labels))\n",
    "print('编码之后的标记：{}'.format(encoded_labels))\n",
    "\n",
    "# 使用编码器将编码数字解码成原来的文本标记，注意最大值不能超过编码器中的长度\n",
    "encoded=[1,3,0,4]\n",
    "# encoded=[1,3,0,4,5] # 5不存在与编码器中，故报错\n",
    "decoded_labels=encoder.inverse_transform(encoded)\n",
    "print('\\n已经编码的标记代码：{}'.format(encoded))\n",
    "print('解码后的标记：{}'.format(decoded_labels))\n"
   ]
  },
  {
   "cell_type": "code",
   "execution_count": null,
   "metadata": {},
   "outputs": [],
   "source": []
  }
 ],
 "metadata": {
  "kernelspec": {
   "display_name": "Python 3",
   "language": "python",
   "name": "python3"
  },
  "language_info": {
   "codemirror_mode": {
    "name": "ipython",
    "version": 3
   },
   "file_extension": ".py",
   "mimetype": "text/x-python",
   "name": "python",
   "nbconvert_exporter": "python",
   "pygments_lexer": "ipython3",
   "version": "3.5.2"
  }
 },
 "nbformat": 4,
 "nbformat_minor": 2
}
