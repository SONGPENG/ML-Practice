{
 "cells": [
  {
   "cell_type": "code",
   "execution_count": 1,
   "metadata": {},
   "outputs": [
    {
     "name": "stdout",
     "output_type": "stream",
     "text": [
      "(3, 4)\n",
      "Mean=[ 5.55111512e-17 -1.11022302e-16 -7.40148683e-17 -7.40148683e-17]\n",
      "Mean2=[ 5.55111512e-17 -1.11022302e-16 -7.40148683e-17 -7.40148683e-17]\n",
      "standardized: \n",
      "[[ 1.33630621 -1.40451644  1.29110641 -0.86687558]\n",
      " [-1.06904497  0.84543708 -0.14577008  1.40111286]\n",
      " [-0.26726124  0.55907936 -1.14533633 -0.53423728]]\n",
      "STD=[1. 1. 1. 1.]\n"
     ]
    }
   ],
   "source": [
    "###########对数据集进行Normalization#########################\n",
    "import numpy as np\n",
    "from sklearn import preprocessing\n",
    "\n",
    "data=np.array([[3, -1.5, 2, -5.4],\n",
    "               [0, 4,-0.3,2.1],\n",
    "               [1, 3.3, -1.9, -4.3]]) # 原始数据矩阵 shape=(3,4)\n",
    "\n",
    "data_standardized=preprocessing.scale(data)\n",
    "\n",
    "print(data_standardized.shape)\n",
    "print('Mean={}'.format(data_standardized.mean(axis=0)))\n",
    "print('Mean2={}'.format(np.mean(data_standardized,axis=0)))\n",
    "print('standardized: ')\n",
    "print(data_standardized)\n",
    "print('STD={}'.format(np.std(data_standardized,axis=0)))"
   ]
  },
  {
   "cell_type": "code",
   "execution_count": 2,
   "metadata": {},
   "outputs": [
    {
     "name": "stdout",
     "output_type": "stream",
     "text": [
      "scaled matrix: *********************************\n",
      "[[1.         0.         1.         0.        ]\n",
      " [0.         1.         0.41025641 1.        ]\n",
      " [0.33333333 0.87272727 0.         0.14666667]]\n"
     ]
    }
   ],
   "source": [
    "###########对数据集进行范围缩放#########################\n",
    "import numpy as np\n",
    "from sklearn import preprocessing\n",
    "\n",
    "data=np.array([[3, -1.5, 2, -5.4],\n",
    "               [0, 4,-0.3,2.1],\n",
    "               [1, 3.3, -1.9, -4.3]]) # 原始数据矩阵 shape=(3,4)\n",
    "\n",
    "data_scaler=preprocessing.MinMaxScaler(feature_range=(0,1)) # 缩放到（0,1）之间\n",
    "data_scaled=data_scaler.fit_transform(data)\n",
    "\n",
    "print('scaled matrix: *********************************')\n",
    "print(data_scaled)"
   ]
  },
  {
   "cell_type": "code",
   "execution_count": 3,
   "metadata": {},
   "outputs": [
    {
     "name": "stdout",
     "output_type": "stream",
     "text": [
      "L1 normalized matrix: *********************************\n",
      "[[ 0.25210084 -0.12605042  0.16806723 -0.45378151]\n",
      " [ 0.          0.625      -0.046875    0.328125  ]\n",
      " [ 0.0952381   0.31428571 -0.18095238 -0.40952381]]\n",
      "sum of matrix: 0.5656337535014005\n",
      "L2 normalized matrix: *********************************\n",
      "[[ 0.45017448 -0.22508724  0.30011632 -0.81031406]\n",
      " [ 0.          0.88345221 -0.06625892  0.46381241]\n",
      " [ 0.17152381  0.56602858 -0.32589524 -0.73755239]]\n",
      "sum of matrix: 0.6699999596689536\n"
     ]
    }
   ],
   "source": [
    "###########对数据集进行Normalization#########################\n",
    "import numpy as np\n",
    "from sklearn import preprocessing\n",
    "\n",
    "data=np.array([[3, -1.5, 2, -5.4],\n",
    "               [0, 4,-0.3,2.1],\n",
    "               [1, 3.3, -1.9, -4.3]]) # 原始数据矩阵 shape=(3,4)\n",
    "\n",
    "data_L1_normalized=preprocessing.normalize(data,norm='l1')\n",
    "print('L1 normalized matrix: *********************************')\n",
    "print(data_L1_normalized)\n",
    "print('sum of matrix: {}'.format(np.sum(data_L1_normalized)))\n",
    "\n",
    "data_L2_normalized=preprocessing.normalize(data) # 默认：l2\n",
    "print('L2 normalized matrix: *********************************')\n",
    "print(data_L2_normalized)\n",
    "print('sum of matrix: {}'.format(np.sum(data_L2_normalized)))"
   ]
  },
  {
   "cell_type": "code",
   "execution_count": 4,
   "metadata": {},
   "outputs": [
    {
     "name": "stdout",
     "output_type": "stream",
     "text": [
      "binarized matrix: *********************************\n",
      "[[1. 0. 1. 0.]\n",
      " [0. 1. 0. 1.]\n",
      " [0. 1. 0. 0.]]\n"
     ]
    }
   ],
   "source": [
    "###########对数据集进行Binarization#########################\n",
    "import numpy as np\n",
    "from sklearn import preprocessing\n",
    "\n",
    "data=np.array([[3, -1.5, 2, -5.4],\n",
    "               [0, 4,-0.3,2.1],\n",
    "               [1, 3.3, -1.9, -4.3]]) # 原始数据矩阵 shape=(3,4)\n",
    "\n",
    "data_binarized=preprocessing.Binarizer(threshold=1.4).transform(data)\n",
    "print('binarized matrix: *********************************')\n",
    "print(data_binarized)"
   ]
  },
  {
   "cell_type": "code",
   "execution_count": 5,
   "metadata": {},
   "outputs": [
    {
     "name": "stdout",
     "output_type": "stream",
     "text": [
      "one-hot encoded matrix: *********************************\n",
      "(1, 11)\n",
      "[[0. 0. 1. 0. 1. 0. 0. 0. 1. 1. 0.]]\n"
     ]
    }
   ],
   "source": [
    "###########对数据集进行独热编码#########################\n",
    "import numpy as np\n",
    "from sklearn import preprocessing\n",
    "\n",
    "data=np.array([[0,2,1,12],\n",
    "               [1,3,5,3],\n",
    "               [2,3,2,12],\n",
    "               [1,2,4,3]]) # 原始数据矩阵 shape=(4,4)\n",
    "\n",
    "encoder=preprocessing.OneHotEncoder()\n",
    "encoder.fit(data)\n",
    "encoded_vector=encoder.transform([[2,3,5,3]]).toarray()\n",
    "print('one-hot encoded matrix: *********************************')\n",
    "print(encoded_vector.shape)\n",
    "print(encoded_vector)"
   ]
  },
  {
   "cell_type": "code",
   "execution_count": 6,
   "metadata": {},
   "outputs": [
    {
     "name": "stdout",
     "output_type": "stream",
     "text": [
      "[[1. 0. 0. 1. 0. 0. 0. 0. 1.]]\n"
     ]
    }
   ],
   "source": [
    "from sklearn import preprocessing\n",
    "\n",
    "enc = preprocessing.OneHotEncoder()\n",
    "enc.fit([[0, 0, 3], [1, 1, 0], [0, 2, 1], [1, 0, 2]])\n",
    "encoded=enc.transform([[0, 1, 3]]).toarray()\n",
    "print(encoded)"
   ]
  },
  {
   "cell_type": "code",
   "execution_count": null,
   "metadata": {},
   "outputs": [],
   "source": []
  }
 ],
 "metadata": {
  "kernelspec": {
   "display_name": "Python 3",
   "language": "python",
   "name": "python3"
  },
  "language_info": {
   "codemirror_mode": {
    "name": "ipython",
    "version": 3
   },
   "file_extension": ".py",
   "mimetype": "text/x-python",
   "name": "python",
   "nbconvert_exporter": "python",
   "pygments_lexer": "ipython3",
   "version": "3.5.2"
  }
 },
 "nbformat": 4,
 "nbformat_minor": 2
}
