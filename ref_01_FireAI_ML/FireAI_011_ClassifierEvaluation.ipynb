{
 "cells": [
  {
   "cell_type": "code",
   "execution_count": 2,
   "metadata": {},
   "outputs": [],
   "source": [
    "import numpy as np\n",
    "import pandas as pd\n",
    "import matplotlib.pyplot as plt\n",
    "%matplotlib inline\n",
    "np.random.seed(37) # 使得每次运行得到的随机数都一样"
   ]
  },
  {
   "cell_type": "code",
   "execution_count": 3,
   "metadata": {},
   "outputs": [
    {
     "name": "stdout",
     "output_type": "stream",
     "text": [
      "[[2 1 0 0]\n",
      " [0 2 0 0]\n",
      " [0 0 1 0]\n",
      " [0 1 0 2]]\n"
     ]
    }
   ],
   "source": [
    "# 假如有一个模型在测试集上得到的预测结果为：\n",
    "y_true = [1, 0, 0, 2, 1, 0, 3, 3, 3] # 实际的类别\n",
    "y_pred = [1, 1, 0, 2, 1, 0, 1, 3, 3] # 模型预测的类别\n",
    "\n",
    "# 使用sklearn 模块计算混淆矩阵\n",
    "from sklearn.metrics import confusion_matrix\n",
    "confusion_mat = confusion_matrix(y_true, y_pred)\n",
    "print(confusion_mat) #看看混淆矩阵长啥样"
   ]
  },
  {
   "cell_type": "code",
   "execution_count": 4,
   "metadata": {},
   "outputs": [
    {
     "data": {
      "image/png": "[encoded data removed]",
      "text/plain": [
       "<Figure size 432x288 with 2 Axes>"
      ]
     },
     "metadata": {},
     "output_type": "display_data"
    }
   ],
   "source": [
    "def plot_confusion_matrix(confusion_mat):\n",
    "    '''将混淆矩阵画图并显示出来'''\n",
    "    plt.imshow(confusion_mat, interpolation='nearest', cmap=plt.cm.gray)\n",
    "    plt.title('Confusion matrix')\n",
    "    plt.colorbar()\n",
    "    tick_marks = np.arange(confusion_mat.shape[0])\n",
    "    plt.xticks(tick_marks, tick_marks)\n",
    "    plt.yticks(tick_marks, tick_marks)\n",
    "    plt.ylabel('True label')\n",
    "    plt.xlabel('Predicted label')\n",
    "    plt.show()\n",
    "\n",
    "plot_confusion_matrix(confusion_mat)"
   ]
  },
  {
   "cell_type": "code",
   "execution_count": 5,
   "metadata": {},
   "outputs": [
    {
     "name": "stdout",
     "output_type": "stream",
     "text": [
      "             precision    recall  f1-score   support\n",
      "\n",
      "    Class-0       1.00      0.67      0.80         3\n",
      "    Class-1       0.50      1.00      0.67         2\n",
      "    Class-2       1.00      1.00      1.00         1\n",
      "    Class-3       1.00      0.67      0.80         3\n",
      "\n",
      "avg / total       0.89      0.78      0.79         9\n",
      "\n"
     ]
    }
   ],
   "source": [
    "# 打印该模型的性能报告\n",
    "# 直接使用sklearn打印精度，召回率和F1值\n",
    "from sklearn.metrics import classification_report\n",
    "target_names = ['Class-0', 'Class-1', 'Class-2', 'Class-3']\n",
    "print(classification_report(y_true, y_pred, target_names=target_names))"
   ]
  },
  {
   "cell_type": "code",
   "execution_count": 6,
   "metadata": {},
   "outputs": [
    {
     "name": "stdout",
     "output_type": "stream",
     "text": [
      "准确率：99.00%\n",
      "精确度：99.17%\n",
      "召回率：99.00%\n",
      "F1  值：98.97%\n"
     ]
    },
    {
     "name": "stderr",
     "output_type": "stream",
     "text": [
      "c:\\users\\dingr\\appdata\\local\\programs\\python\\python35\\lib\\site-packages\\sklearn\\cross_validation.py:41: DeprecationWarning: This module was deprecated in version 0.18 in favor of the model_selection module into which all the refactored classes and functions are moved. Also note that the interface of the new CV iterators are different from that of this module. This module will be removed in 0.20.\n",
      "  \"This module will be removed in 0.20.\", DeprecationWarning)\n"
     ]
    }
   ],
   "source": [
    "# 评估朴素贝叶斯多分类模型\n",
    "# 1， 准备数据集\n",
    "data_path='D:\\PyProjects\\DataSet/NaiveBayers/data_multivar.txt'\n",
    "df=pd.read_csv(data_path,header=None)\n",
    "dataset_X,dataset_y=df.iloc[:,:-1],df.iloc[:,-1]\n",
    "dataset_X=dataset_X.values\n",
    "dataset_y=dataset_y.values\n",
    "# 将整个数据集划分为train set和test set\n",
    "from sklearn.cross_validation import train_test_split\n",
    "train_X, test_X, train_y, test_y=train_test_split(dataset_X,dataset_y,test_size=0.25,random_state=42)\n",
    "\n",
    "# 构建朴素贝叶斯分类模型\n",
    "from sklearn.naive_bayes import GaussianNB\n",
    "gaussianNB_new=GaussianNB()\n",
    "gaussianNB_new.fit(train_X,train_y)\n",
    "\n",
    "# 2 用交叉验证来检验模型的准确性，只是在test set上验证准确性\n",
    "from sklearn.cross_validation import cross_val_score\n",
    "num_validations=5\n",
    "accuracy=cross_val_score(gaussianNB_new,test_X,test_y,\n",
    "                         scoring='accuracy',cv=num_validations)\n",
    "print('准确率：{:.2f}%'.format(accuracy.mean()*100))\n",
    "precision=cross_val_score(gaussianNB_new,test_X,test_y,\n",
    "                         scoring='precision_weighted',cv=num_validations)\n",
    "print('精确度：{:.2f}%'.format(precision.mean()*100))\n",
    "recall=cross_val_score(gaussianNB_new,test_X,test_y,\n",
    "                         scoring='recall_weighted',cv=num_validations)\n",
    "print('召回率：{:.2f}%'.format(recall.mean()*100))\n",
    "f1=cross_val_score(gaussianNB_new,test_X,test_y,\n",
    "                         scoring='f1_weighted',cv=num_validations)\n",
    "print('F1  值：{:.2f}%'.format(f1.mean()*100))"
   ]
  },
  {
   "cell_type": "code",
   "execution_count": 7,
   "metadata": {},
   "outputs": [
    {
     "name": "stdout",
     "output_type": "stream",
     "text": [
      "[[27  0  0  0]\n",
      " [ 0 18  0  0]\n",
      " [ 0  0 33  0]\n",
      " [ 0  0  0 22]]\n",
      "**************************************************\n",
      "             precision    recall  f1-score   support\n",
      "\n",
      "    Class-0       1.00      1.00      1.00        27\n",
      "    Class-1       1.00      1.00      1.00        18\n",
      "    Class-2       1.00      1.00      1.00        33\n",
      "    Class-3       1.00      1.00      1.00        22\n",
      "\n",
      "avg / total       1.00      1.00      1.00       100\n",
      "\n"
     ]
    }
   ],
   "source": [
    "# 使用sklearn 模块计算混淆矩阵\n",
    "y_pred=gaussianNB_new.predict(test_X)\n",
    "confusion_mat = confusion_matrix(test_y, y_pred)\n",
    "print(confusion_mat) #看看混淆矩阵长啥样\n",
    "\n",
    "print('*'*50)\n",
    "# 打印该模型的性能报告\n",
    "# 直接使用sklearn打印精度，召回率和F1值\n",
    "target_names = ['Class-0', 'Class-1', 'Class-2', 'Class-3']\n",
    "print(classification_report(test_y, y_pred, target_names=target_names))"
   ]
  },
  {
   "cell_type": "code",
   "execution_count": null,
   "metadata": {},
   "outputs": [],
   "source": []
  }
 ],
 "metadata": {
  "kernelspec": {
   "display_name": "Python 3",
   "language": "python",
   "name": "python3"
  },
  "language_info": {
   "codemirror_mode": {
    "name": "ipython",
    "version": 3
   },
   "file_extension": ".py",
   "mimetype": "text/x-python",
   "name": "python",
   "nbconvert_exporter": "python",
   "pygments_lexer": "ipython3",
   "version": "3.5.2"
  }
 },
 "nbformat": 4,
 "nbformat_minor": 2
}
