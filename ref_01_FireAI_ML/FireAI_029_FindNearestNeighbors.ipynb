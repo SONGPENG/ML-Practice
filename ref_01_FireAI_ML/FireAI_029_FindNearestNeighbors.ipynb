{
 "cells": [
  {
   "cell_type": "code",
   "execution_count": 1,
   "metadata": {},
   "outputs": [],
   "source": [
    "import numpy as np\n",
    "import pandas as pd\n",
    "import matplotlib.pyplot as plt\n",
    "%matplotlib inline\n",
    "np.random.seed(37) # 使得每次运行得到的随机数都一样"
   ]
  },
  {
   "cell_type": "code",
   "execution_count": 6,
   "metadata": {},
   "outputs": [
    {
     "data": {
      "text/plain": [
       "<matplotlib.collections.PathCollection at 0x55b7fd0>"
      ]
     },
     "execution_count": 6,
     "metadata": {},
     "output_type": "execute_result"
    },
    {
     "data": {
      "image/png": "[encoded data removed]",
      "text/plain": [
       "<Figure size 432x288 with 1 Axes>"
      ]
     },
     "metadata": {},
     "output_type": "display_data"
    }
   ],
   "source": [
    "# 1，寻找最近的K个邻居\n",
    "from sklearn.neighbors import NearestNeighbors\n",
    "# 自定义一些数据集\n",
    "X = np.array([[1, 1], [1, 3], [2, 2], [2.5, 5], [3, 1], \n",
    "        [4, 2], [2, 3.5], [3, 3], [3.5, 4]])\n",
    "# 画出这些数据集在平面图上的分布情况\n",
    "plt.scatter(X[:,0],X[:,1],marker='o',color='k')\n",
    "\n",
    "# 一个新样本\n",
    "new_sample=np.array([[2.6,1.7]])\n",
    "plt.scatter(new_sample[:,0],new_sample[:,1],marker='*',color='r')"
   ]
  },
  {
   "cell_type": "code",
   "execution_count": 14,
   "metadata": {},
   "outputs": [
    {
     "name": "stdout",
     "output_type": "stream",
     "text": [
      "rank: 0 --> [2. 2.], distance: 0.671\n",
      "rank: 1 --> [3. 1.], distance: 0.806\n",
      "rank: 2 --> [3. 3.], distance: 1.360\n"
     ]
    }
   ],
   "source": [
    "# 构建KNN模型，计算最近的K个数据点\n",
    "K=3\n",
    "KNN=NearestNeighbors(n_neighbors=K,algorithm='ball_tree').fit(X)\n",
    "distances,indices=KNN.kneighbors(new_sample)\n",
    "\n",
    "# 打印最近的K个邻居\n",
    "for rank, (index, distance) in \\\n",
    "    enumerate(zip(indices[0][:K],distances[0][:K])):\n",
    "    print('rank: {} --> {}, distance: {:.3f}'.format(rank, X[index],distance))"
   ]
  },
  {
   "cell_type": "code",
   "execution_count": 18,
   "metadata": {},
   "outputs": [
    {
     "data": {
      "text/plain": [
       "<matplotlib.collections.PathCollection at 0x1bafe630>"
      ]
     },
     "execution_count": 18,
     "metadata": {},
     "output_type": "execute_result"
    },
    {
     "data": {
      "image/png": "[encoded data removed]",
      "text/plain": [
       "<Figure size 432x288 with 1 Axes>"
      ]
     },
     "metadata": {},
     "output_type": "display_data"
    }
   ],
   "source": [
    "# 将最近的K个邻居重点标示出来\n",
    "plt.scatter(X[:,0],X[:,1],marker='o',color='k')\n",
    "plt.scatter(new_sample[:,0],new_sample[:,1],marker='*',color='r')\n",
    "plt.scatter(X[indices][0][:][:,0],X[indices][0][:][:,1],marker='o',s=150,\n",
    "            color='g')"
   ]
  },
  {
   "cell_type": "code",
   "execution_count": null,
   "metadata": {},
   "outputs": [],
   "source": []
  }
 ],
 "metadata": {
  "kernelspec": {
   "display_name": "Python 3",
   "language": "python",
   "name": "python3"
  },
  "language_info": {
   "codemirror_mode": {
    "name": "ipython",
    "version": 3
   },
   "file_extension": ".py",
   "mimetype": "text/x-python",
   "name": "python",
   "nbconvert_exporter": "python",
   "pygments_lexer": "ipython3",
   "version": "3.6.6"
  }
 },
 "nbformat": 4,
 "nbformat_minor": 2
}
