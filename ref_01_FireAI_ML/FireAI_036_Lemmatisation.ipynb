{
 "cells": [
  {
   "cell_type": "code",
   "execution_count": 1,
   "metadata": {},
   "outputs": [],
   "source": [
    "# 英语单词的词形还原\n",
    "from nltk.stem import WordNetLemmatizer"
   ]
  },
  {
   "cell_type": "code",
   "execution_count": 2,
   "metadata": {},
   "outputs": [
    {
     "name": "stdout",
     "output_type": "stream",
     "text": [
      "                    WORD         NOUN LEMMATIZER         VERB LEMMATIZER\n",
      "                   table                   table                   table\n",
      "                probably                probably                probably\n",
      "                  wolves                    wolf                  wolves\n",
      "                 playing                 playing                    play\n",
      "                      is                      is                      be\n",
      "                     dog                     dog                     dog\n",
      "                     the                     the                     the\n",
      "                 beaches                   beach                   beach\n",
      "                grounded                grounded                  ground\n",
      "                  dreamt                  dreamt                   dream\n",
      "                envision                envision                envision\n"
     ]
    }
   ],
   "source": [
    "# 待还原的单词\n",
    "words = ['table', 'probably', 'wolves', 'playing', 'is', \n",
    "        'dog', 'the', 'beaches', 'grounded', 'dreamt', 'envision']\n",
    "\n",
    "# 由于词形还原需要先标注词性，故而此处我们用名词和动词两种词性进行测试\n",
    "lemmatizers = ['NOUN LEMMATIZER', 'VERB LEMMATIZER'] # 两种词性\n",
    "lemmatizer = WordNetLemmatizer()\n",
    "formatted_row = '{:>24}' * (len(lemmatizers) + 1) # 使其打印格式一致\n",
    "print(formatted_row.format('WORD',*lemmatizers)) # 打印表头\n",
    "\n",
    "for word in words: # # 每个单词逐一变换\n",
    "    lemmatized=[lemmatizer.lemmatize(word, pos='n'), lemmatizer.lemmatize(word, pos='v')]\n",
    "    # 注意里面pos表示词性，分别表示名称和动词\n",
    "    print(formatted_row.format(word,*lemmatized)) # 对提取后的stem进行拆包"
   ]
  },
  {
   "cell_type": "code",
   "execution_count": 3,
   "metadata": {},
   "outputs": [
    {
     "data": {
      "text/plain": [
       "[('apples', 'NNS'),\n",
       " ('%', 'NN'),\n",
       " (',', ','),\n",
       " ('I', 'PRP'),\n",
       " (\"'ve\", 'VBP'),\n",
       " ('loves', 'NNS'),\n",
       " ('green', 'JJ')]"
      ]
     },
     "execution_count": 3,
     "metadata": {},
     "output_type": "execute_result"
    }
   ],
   "source": [
    "from nltk import pos_tag, word_tokenize\n",
    "pos_tag(word_tokenize(\"apples % , I've loves green\"))"
   ]
  },
  {
   "cell_type": "code",
   "execution_count": 4,
   "metadata": {},
   "outputs": [],
   "source": [
    "# 定义一个函数来对一个句子中的所有单词进行词形还原\n",
    "def lemmatize_all(sentence):\n",
    "    wnl = WordNetLemmatizer()\n",
    "    for word, tag in pos_tag(word_tokenize(sentence)):\n",
    "        if tag.startswith('NN'):\n",
    "            yield wnl.lemmatize(word, pos='n')\n",
    "        elif tag.startswith('VB'):\n",
    "            yield wnl.lemmatize(word, pos='v')\n",
    "        elif tag.startswith('JJ'):\n",
    "            yield wnl.lemmatize(word, pos='a')\n",
    "        elif tag.startswith('R'):\n",
    "            yield wnl.lemmatize(word, pos='r')\n",
    "        else:\n",
    "            yield word\n"
   ]
  },
  {
   "cell_type": "code",
   "execution_count": 5,
   "metadata": {},
   "outputs": [
    {
     "name": "stdout",
     "output_type": "stream",
     "text": [
      "Are/you/curious/about/tokenization/?/Let/'s/see/how/it/work/!/We/need/to/analyze/,/a/couple/of/sentence/with/punctuation/to/see/it/in/action/.\n"
     ]
    }
   ],
   "source": [
    "text = \"Are you curious about tokenization? Let's see how it works! We need to analyze, a couple of sentences with punctuations to see it in action.\"\n",
    "lemmatized='/'.join(lemmatize_all(text))\n",
    "print(lemmatized)"
   ]
  },
  {
   "cell_type": "code",
   "execution_count": 6,
   "metadata": {},
   "outputs": [
    {
     "name": "stdout",
     "output_type": "stream",
     "text": [
      "Given/a/single/tensor/(/tensor/)/,/this/operation/return/a/tensor/of/the/same/type/and/shape/as/tensor/with/all/element/set/to/zero/./Optionally/,/you/could/or/should/or/may/use/dtype/to/specify/a/new/type/for/the/return/tensor/.\n"
     ]
    }
   ],
   "source": [
    "text ='Given a single tensor (tensor), '+\\\n",
    "    'this operation returns a tensor of the same type and shape as tensor with all elements set to zero. '+\\\n",
    "    'Optionally, you could or should or may use dtype to specify a new type for the returned tensor.'\n",
    "print('/'.join(lemmatize_all(text)))"
   ]
  },
  {
   "cell_type": "code",
   "execution_count": 7,
   "metadata": {},
   "outputs": [
    {
     "name": "stdout",
     "output_type": "stream",
     "text": [
      "dog/run/,/cat/drink/wine/,/chicken/eat/apple/,/fox/jump/two/meter\n"
     ]
    }
   ],
   "source": [
    "text ='dog runs, cats drunk wines, chicken eat apples, foxes jumped two meters'\n",
    "print('/'.join(lemmatize_all(text)))"
   ]
  },
  {
   "cell_type": "code",
   "execution_count": 8,
   "metadata": {},
   "outputs": [],
   "source": [
    "# NLTK 词性标签\n",
    "# CC 连词 and, or,but, if, while,although\n",
    "# CD 数词 twenty-four, fourth, 1991,14:24\n",
    "# DT 限定词 the, a, some, most,every, no\n",
    "# EX 存在量词 there, there's\n",
    "# FW 外来词 dolce, ersatz, esprit, quo,maitre\n",
    "# IN 介词连词 on, of,at, with,by,into, under\n",
    "# JJ 形容词 new,good, high, special, big, local\n",
    "# JJR 比较级词语 bleaker braver breezier briefer brighter brisker\n",
    "# JJS 最高级词语 calmest cheapest choicest classiest cleanest clearest\n",
    "# LS 标记 A A. B B. C C. D E F First G H I J K\n",
    "# MD 情态动词 can cannot could couldn't\n",
    "# NN 名词 year,home, costs, time, education\n",
    "# NNS 名词复数 undergraduates scotches\n",
    "# NNP 专有名词 Alison,Africa,April,Washington\n",
    "# NNPS 专有名词复数 Americans Americas Amharas Amityvilles\n",
    "# PDT 前限定词 all both half many\n",
    "# POS 所有格标记 ' 's\n",
    "# PRP 人称代词 hers herself him himself hisself\n",
    "# PRP$ 所有格 her his mine my our ours\n",
    "# RB 副词 occasionally unabatingly maddeningly\n",
    "# RBR 副词比较级 further gloomier grander\n",
    "# RBS 副词最高级 best biggest bluntest earliest\n",
    "# RP 虚词 aboard about across along apart\n",
    "# SYM 符号 % & ' '' ''. ) )\n",
    "# TO 词to to\n",
    "# UH 感叹词 Goodbye Goody Gosh Wow\n",
    "# VB 动词 ask assemble assess\n",
    "# VBD 动词过去式 dipped pleaded swiped\n",
    "# VBG 动词现在分词 telegraphing stirring focusing\n",
    "# VBN 动词过去分词 multihulled dilapidated aerosolized\n",
    "# VBP 动词现在式非第三人称时态 predominate wrap resort sue\n",
    "# VBZ 动词现在式第三人称时态 bases reconstructs marks\n",
    "# WDT Wh限定词 who,which,when,what,where,how\n",
    "# WP WH代词 that what whatever\n",
    "# WP$ WH代词所有格 whose\n",
    "# WRB WH副词\n"
   ]
  }
 ],
 "metadata": {
  "kernelspec": {
   "display_name": "Python 3",
   "language": "python",
   "name": "python3"
  },
  "language_info": {
   "codemirror_mode": {
    "name": "ipython",
    "version": 3
   },
   "file_extension": ".py",
   "mimetype": "text/x-python",
   "name": "python",
   "nbconvert_exporter": "python",
   "pygments_lexer": "ipython3",
   "version": "3.6.6"
  }
 },
 "nbformat": 4,
 "nbformat_minor": 2
}
